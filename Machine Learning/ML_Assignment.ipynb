{
 "cells": [
  {
   "cell_type": "markdown",
   "id": "69d42ee3",
   "metadata": {},
   "source": [
    "# 📘 Machine Learning Assignment\n",
    "This notebook contains both quiz (conceptual) and project (subjective) tasks."
   ]
  },
  {
   "cell_type": "markdown",
   "id": "256246e6",
   "metadata": {},
   "source": [
    "## Part A: Quiz (Conceptual)\n",
    "Answer the following questions in your own words.\n",
    "\n",
    "1. In multiple linear regression, what is the difference between coefficients and the intercept?  \n",
    "2. Why do we need to split data into training and testing sets?  \n",
    "3. What does a positive coefficient mean for a feature? Give a real-life example.  \n",
    "4. If the R² score of your regression model is 0.95, what does it tell you about the model?  \n",
    "5. What problem arises if two independent variables are highly correlated?  \n",
    "6. What is the difference between overfitting and underfitting in regression?  \n",
    "7. How does normalization or scaling of features affect regression models?  \n",
    "8. Suppose you predict CO2 emissions of cars using Weight and Volume. If a car’s weight doubles, does CO2 always double? Why or why not?  \n",
    "9. What is the purpose of using dummy variables (one-hot encoding) in regression?  \n",
    "10. If your model is giving warnings about feature names, what’s the correct way to fix it?  \n"
   ]
  },
  {
   "cell_type": "code",
   "execution_count": null,
   "id": "03e97b5d",
   "metadata": {},
   "outputs": [],
   "source": [
    "# You can type your answers here as comments or markdown in new cells.\n"
   ]
  },
  {
   "cell_type": "markdown",
   "id": "007aa876",
   "metadata": {},
   "source": [
    "## Part B: Subjective / Mini-Project Task\n",
    "\n",
    "Choose one of the following real-life inspired tasks and implement it.\n",
    "\n",
    "### 🏠 Option 1: House Price Prediction\n",
    "- Dataset: Size (sqft), Number of rooms, Location rating, Age of house, Price.  \n",
    "- Train a multiple linear regression model to predict house prices.  \n",
    "- Deliverables: Show coefficients, interpret them, and test prediction for a hypothetical house.  \n",
    "\n",
    "### 🚗 Option 2: Car CO2 Emission Model\n",
    "- Use your existing dataset and add one more feature (e.g., Fuel Type).  \n",
    "- Train a regression model to predict CO2 emissions.  \n",
    "- Deliverables: Write regression equation explicitly and predict for a new car.  \n",
    "\n",
    "### 📈 Option 3: Sales Prediction\n",
    "- Dataset: Advertising Budget, Number of Salespersons, Season (1=Summer, 0=Winter), Sales.  \n",
    "- Train a regression model to predict sales.  \n",
    "- Deliverables: Plot predicted vs. actual sales and discuss factor contributions.  \n"
   ]
  },
  {
   "cell_type": "code",
   "execution_count": null,
   "id": "3f51b6f6",
   "metadata": {},
   "outputs": [],
   "source": []
  },
  {
   "cell_type": "markdown",
   "id": "eab1e7da",
   "metadata": {},
   "source": [
    "## ⚡ Extra Challenge (Optional)\n",
    "After training your model, evaluate it using R² score and Mean Squared Error (MSE).  \n",
    "Try comparing performance when you:\n",
    "1. Use all features vs. only one feature.  \n",
    "2. Normalize/scale features vs. leave them as is.  \n"
   ]
  }
 ],
 "metadata": {
  "language_info": {
   "name": "python"
  }
 },
 "nbformat": 4,
 "nbformat_minor": 5
}
