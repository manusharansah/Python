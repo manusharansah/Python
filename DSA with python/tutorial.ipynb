{
 "cells": [
  {
   "cell_type": "markdown",
   "id": "52891cc4",
   "metadata": {},
   "source": [
    "# List and Arrays\n",
    "List is the collection of multiple items. In python, the items can be of non-homogeneous nature as well. \n"
   ]
  },
  {
   "cell_type": "code",
   "execution_count": 1,
   "id": "7c2abafc",
   "metadata": {},
   "outputs": [
    {
     "name": "stdout",
     "output_type": "stream",
     "text": [
      "[10, 5]\n",
      "[10, 5]\n"
     ]
    }
   ],
   "source": [
    "# Defining List\n",
    "x = []\n",
    "# or x = list() // creating empty list\n",
    "\n",
    "# List methods\n",
    "x.append(5) # Adding 5 to the list\n",
    "\n",
    "x.append(10) # Adding 10 the list\n",
    "x.sort(reverse=True)  # Sorting list in Descending Order\n",
    "\n",
    "for item in x:\n",
    "    print(x)"
   ]
  },
  {
   "cell_type": "markdown",
   "id": "8acf01ed",
   "metadata": {},
   "source": [
    "# Stacks with Python\n",
    "About Stack\n",
    "1. Linear Data Structure\n",
    "2. Works on LIFO (Last in First Out) principle.\n",
    "3. Can be implementerd using list, arrays or linked list.\n",
    "\n",
    "\n",
    "Python list can be used as stack in a very simple way."
   ]
  },
  {
   "cell_type": "code",
   "execution_count": 1,
   "id": "dabe9e02",
   "metadata": {},
   "outputs": [
    {
     "name": "stdout",
     "output_type": "stream",
     "text": [
      "[5, 7]\n",
      "Popped element:  7\n",
      "5\n",
      "Empty status:  False\n",
      "Size of stack:  1\n"
     ]
    }
   ],
   "source": [
    "# Stack using built-in python list\n",
    "\n",
    "stack = []\n",
    "\n",
    "# Push Operation on stack  -> Adding element to stack\n",
    "stack.append(5)\n",
    "stack.append(7)\n",
    "print(stack)\n",
    "\n",
    "# Pop operation -> Removing element from stack and returning it\n",
    "popped_element = stack.pop()\n",
    "print(\"Popped element: \",popped_element)\n",
    "\n",
    "# Peek operation -> Returning last element of stack\n",
    "print(stack[-1])\n",
    "\n",
    "# isEmpty\n",
    "print(\"Empty status: \", not (stack))\n",
    "\n",
    "# Size of stack \n",
    "print(\"Size of stack: \", len(stack))\n",
    "\n",
    "\n"
   ]
  },
  {
   "cell_type": "code",
   "execution_count": null,
   "id": "d4a30093",
   "metadata": {},
   "outputs": [
    {
     "name": "stdout",
     "output_type": "stream",
     "text": [
      "7 5 \n",
      "5 \n",
      "Empty Status:  False\n"
     ]
    }
   ],
   "source": [
    "# Stacks implementation with customixed class for enhanced functionality and encapsulation\n",
    "\n",
    "class Stack:\n",
    "    def __init__(self):\n",
    "        self.stack = []\n",
    "    def push(self,element):\n",
    "        self.stack.append(element)\n",
    "        return element\n",
    "    def pop(self):\n",
    "        if self.isEmpty():\n",
    "            return \"Stack is Empty. Pop operation can't be performed.\"\n",
    "        popped_element = self.stack.pop()\n",
    "        return popped_element\n",
    "    def peek(self):\n",
    "        if self.isEmpty():\n",
    "            return \"Stack is Empty\"\n",
    "        return self.stack[-1]\n",
    "    def isEmpty(self):\n",
    "        return len(self.stack)== 0\n",
    "    def display(self):\n",
    "        if self.isEmpty():\n",
    "            return \"Stack is Empty\"\n",
    "        for i in range(len(self.stack)-1,-1,-1):\n",
    "            print(self.stack[i],end=\" \")\n",
    "        print()\n",
    "a = Stack()\n",
    "a.push(5)\n",
    "a.push(7)\n",
    "\n",
    "a.display()\n",
    "a.pop()\n",
    "a.display()\n",
    "print(\"Empty Status: \",a.isEmpty())\n",
    "\n",
    "\n"
   ]
  },
  {
   "cell_type": "code",
   "execution_count": 9,
   "id": "85afad4a",
   "metadata": {},
   "outputs": [
    {
     "name": "stdout",
     "output_type": "stream",
     "text": [
      "7->5->\n",
      "Popped Element:  7\n",
      "5->\n",
      "Empty Status:  False\n"
     ]
    }
   ],
   "source": [
    "# Stacks usiing linked list\n",
    "class Node:\n",
    "    def __init__(self,value):\n",
    "        self.value = value\n",
    "        self.next = None\n",
    "\n",
    "class Stack:\n",
    "    def __init__(self):\n",
    "        self.head = None\n",
    "        self.size = 0\n",
    "    def push(self,element):\n",
    "        new_node = Node(element)\n",
    "        new_node.next = self.head\n",
    "        self.head = new_node\n",
    "        self.size +=1\n",
    "        return element\n",
    "    def pop(self):\n",
    "        if self.isEmpty():\n",
    "            return \"Stack is Empty. Pop operation can't be performed.\"\n",
    "        popped_element = self.head.value\n",
    "        self.head = self.head.next\n",
    "        self.size -=1\n",
    "        return popped_element\n",
    "    def peek(self):\n",
    "        if self.isEmpty():\n",
    "            return \"Stack is Empty.\"\n",
    "        return self.head.value\n",
    "    def isEmpty(self):\n",
    "        return self.size == 0\n",
    "    def display(self):\n",
    "        current_node = self.head\n",
    "        while(current_node):\n",
    "            print(current_node.value,end = \"->\")\n",
    "            current_node = current_node.next\n",
    "        print()\n",
    "    def size(self):\n",
    "        return self.size\n",
    "    \n",
    "a =Stack()\n",
    "a.push(5)\n",
    "a.push(7)\n",
    "\n",
    "a.display()\n",
    "print(\"Popped Element: \",a.pop())\n",
    "a.display()\n",
    "print(\"Empty Status: \",a.isEmpty())"
   ]
  },
  {
   "cell_type": "markdown",
   "id": "77ca7b34",
   "metadata": {},
   "source": [
    "# Queue\n",
    "Queue is a linear data structure which works on the FIFO (First In First Out) principle which means that element which is inserted (enqueued) fisrt id deleted (dequeued) first.\n",
    "\n",
    "A queue has two pointer namely front and rear, front points to the foremost element and the rear points to the most recent element added to the queue. While dequeueing, front pointer changes its position and while enqueueing rear pointer changes its position."
   ]
  },
  {
   "cell_type": "code",
   "execution_count": 1,
   "id": "ac346948",
   "metadata": {},
   "outputs": [
    {
     "name": "stdout",
     "output_type": "stream",
     "text": [
      "[5, 12]\n",
      "[12]\n",
      "12\n",
      "Empty Status:  False\n",
      "Size of the queue:  1\n"
     ]
    }
   ],
   "source": [
    "# Using python list as queues\n",
    "\n",
    "que = []\n",
    "\n",
    "# Enqueue Operation\n",
    "que.append(5)\n",
    "que.append(12)\n",
    "\n",
    "print(que)\n",
    "\n",
    "# Dequeue operation\n",
    "que.pop(0)  # if 0 is not kept, it works like stack\n",
    "print(que)\n",
    "\n",
    "#Peek operation\n",
    "print(que[0])\n",
    "\n",
    "# Checking whwther queue is empty or not\n",
    "print(\"Empty Status: \", not que)\n",
    "\n",
    "# printing the size of the queue \n",
    "print(\"Size of the queue: \",len(que))"
   ]
  },
  {
   "cell_type": "code",
   "execution_count": 8,
   "id": "2750aeff",
   "metadata": {},
   "outputs": [
    {
     "name": "stdout",
     "output_type": "stream",
     "text": [
      "[5, 6]\n",
      "5\n",
      "6\n",
      "Empty Status:  False\n"
     ]
    }
   ],
   "source": [
    "# Using class to define queue rather than built-in python list\n",
    "\n",
    "class queue:\n",
    "    def __init__(self):\n",
    "        self.que = []\n",
    "    def enqueue(self,element):\n",
    "        self.que.append(element)\n",
    "    def dequeue(self):\n",
    "        if not self.que:\n",
    "            print(\"Queue is empty. Dequeue operation can't be performed.\")\n",
    "            return\n",
    "        return self.que.pop(0)\n",
    "    def peek(self):\n",
    "        if not self.que:\n",
    "            print(\"Queue is empty.\")\n",
    "            return\n",
    "        return self.que[0]\n",
    "    def isEmpty(self):\n",
    "        print(\"Empty Status: \", not self.que)\n",
    "    def display(self):\n",
    "        print(self.que)\n",
    "\n",
    "a = queue()\n",
    "a.enqueue(5)\n",
    "a.enqueue(6)\n",
    "\n",
    "a.display()\n",
    "\n",
    "print(a.dequeue())\n",
    "\n",
    "print(a.peek())\n",
    "\n",
    "a.isEmpty()\n",
    "\n",
    "         \n",
    "    "
   ]
  },
  {
   "cell_type": "code",
   "execution_count": 14,
   "id": "b72e587b",
   "metadata": {},
   "outputs": [
    {
     "name": "stdout",
     "output_type": "stream",
     "text": [
      "5->6->None\n",
      "Dequeued Element:  5\n",
      "6->None\n",
      "First Element:  6\n",
      "Empty Status:  False\n",
      "6->None\n"
     ]
    }
   ],
   "source": [
    "# Linked List Implementation of Queue\n",
    "class node():\n",
    "    def __init__(self,value):\n",
    "        self.value = value\n",
    "        self.next = None\n",
    "    \n",
    "class queue:\n",
    "    def __init__(self):\n",
    "        self.size = 0\n",
    "        self.front = None\n",
    "        self.rear = None\n",
    "    def enqueue(self,element):\n",
    "        self.size +=1\n",
    "        if self.front == self.rear == None:\n",
    "            self.front = self.rear = node(element)\n",
    "            return None\n",
    "        self.rear.next = node(element)\n",
    "        self.rear = self.rear.next\n",
    "    def dequeue(self):\n",
    "        if self.size == 0:\n",
    "            print(\"Queue is empty. Dequeue operation can't be performed.\")\n",
    "            return None\n",
    "        self.size -=1\n",
    "        temp = self.front\n",
    "        self.front = temp.next\n",
    "        if self.front == None:\n",
    "            self.rear = None\n",
    "        return temp.value\n",
    "    def peek(self):\n",
    "        if self.size == 0:\n",
    "            print(\"Queue is empty. Dequeue operation can't be performed.\")\n",
    "            return None\n",
    "        return self.front.value\n",
    "    def isEmpty(self):\n",
    "        return self.size == 0\n",
    "    def display(self):\n",
    "        temp = self.front\n",
    "        while(temp):\n",
    "            print(temp.value, end='->')\n",
    "            temp = temp.next\n",
    "        print(None)\n",
    "    \n",
    "a = queue()\n",
    "a.enqueue(5)\n",
    "a.enqueue(6)\n",
    "\n",
    "a.display()\n",
    "\n",
    "print(\"Dequeued Element: \",a.dequeue())\n",
    "\n",
    "a.display()\n",
    "\n",
    "print(\"First Element: \",a.peek())\n",
    "\n",
    "print(\"Empty Status: \",a.isEmpty())\n",
    "\n",
    "a.display()\n",
    "        "
   ]
  }
 ],
 "metadata": {
  "kernelspec": {
   "display_name": "Python 3",
   "language": "python",
   "name": "python3"
  },
  "language_info": {
   "codemirror_mode": {
    "name": "ipython",
    "version": 3
   },
   "file_extension": ".py",
   "mimetype": "text/x-python",
   "name": "python",
   "nbconvert_exporter": "python",
   "pygments_lexer": "ipython3",
   "version": "3.13.3"
  }
 },
 "nbformat": 4,
 "nbformat_minor": 5
}
