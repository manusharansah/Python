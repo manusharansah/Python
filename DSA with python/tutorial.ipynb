{
 "cells": [
  {
   "cell_type": "markdown",
   "id": "52891cc4",
   "metadata": {},
   "source": [
    "# List and Arrays\n",
    "List is the collection of multiple items. In python, the items can be of non-homogeneous nature as well. \n"
   ]
  },
  {
   "cell_type": "code",
   "execution_count": 1,
   "id": "7c2abafc",
   "metadata": {},
   "outputs": [
    {
     "name": "stdout",
     "output_type": "stream",
     "text": [
      "[10, 5]\n",
      "[10, 5]\n"
     ]
    }
   ],
   "source": [
    "# Defining List\n",
    "x = []\n",
    "# or x = list() // creating empty list\n",
    "\n",
    "# List methods\n",
    "x.append(5) # Adding 5 to the list\n",
    "\n",
    "x.append(10) # Adding 10 the list\n",
    "x.sort(reverse=True)  # Sorting list in Descending Order\n",
    "\n",
    "for item in x:\n",
    "    print(x)"
   ]
  },
  {
   "cell_type": "markdown",
   "id": "8acf01ed",
   "metadata": {},
   "source": [
    "# Stacks with Python\n",
    "About Stack\n",
    "1. Linear Data Structure\n",
    "2. Works on LIFO (Last in First Out) principle.\n",
    "3. Can be implementerd using list, arrays or linked list.\n",
    "\n",
    "\n",
    "Python list can be used as stack in a very simple way."
   ]
  },
  {
   "cell_type": "code",
   "execution_count": 1,
   "id": "dabe9e02",
   "metadata": {},
   "outputs": [
    {
     "name": "stdout",
     "output_type": "stream",
     "text": [
      "[5, 7]\n",
      "Popped element:  7\n",
      "5\n",
      "Empty status:  False\n",
      "Size of stack:  1\n"
     ]
    }
   ],
   "source": [
    "# Stack using built-in python list\n",
    "\n",
    "stack = []\n",
    "\n",
    "# Push Operation on stack  -> Adding element to stack\n",
    "stack.append(5)\n",
    "stack.append(7)\n",
    "print(stack)\n",
    "\n",
    "# Pop operation -> Removing element from stack and returning it\n",
    "popped_element = stack.pop()\n",
    "print(\"Popped element: \",popped_element)\n",
    "\n",
    "# Peek operation -> Returning last element of stack\n",
    "print(stack[-1])\n",
    "\n",
    "# isEmpty\n",
    "print(\"Empty status: \", not (stack))\n",
    "\n",
    "# Size of stack \n",
    "print(\"Size of stack: \", len(stack))\n",
    "\n",
    "\n"
   ]
  },
  {
   "cell_type": "code",
   "execution_count": null,
   "id": "d4a30093",
   "metadata": {},
   "outputs": [
    {
     "name": "stdout",
     "output_type": "stream",
     "text": [
      "7 5 \n",
      "5 \n",
      "Empty Status:  False\n"
     ]
    }
   ],
   "source": [
    "# Stacks implementation with customixed class for enhanced functionality and encapsulation\n",
    "\n",
    "class Stack:\n",
    "    def __init__(self):\n",
    "        self.stack = []\n",
    "    def push(self,element):\n",
    "        self.stack.append(element)\n",
    "        return element\n",
    "    def pop(self):\n",
    "        if self.isEmpty():\n",
    "            return \"Stack is Empty. Pop operation can't be performed.\"\n",
    "        popped_element = self.stack.pop()\n",
    "        return popped_element\n",
    "    def peek(self):\n",
    "        if self.isEmpty():\n",
    "            return \"Stack is Empty\"\n",
    "        return self.stack[-1]\n",
    "    def isEmpty(self):\n",
    "        return len(self.stack)== 0\n",
    "    def display(self):\n",
    "        if self.isEmpty():\n",
    "            return \"Stack is Empty\"\n",
    "        for i in range(len(self.stack)-1,-1,-1):\n",
    "            print(self.stack[i],end=\" \")\n",
    "        print()\n",
    "a = Stack()\n",
    "a.push(5)\n",
    "a.push(7)\n",
    "\n",
    "a.display()\n",
    "a.pop()\n",
    "a.display()\n",
    "print(\"Empty Status: \",a.isEmpty())\n",
    "\n",
    "\n"
   ]
  },
  {
   "cell_type": "code",
   "execution_count": 9,
   "id": "85afad4a",
   "metadata": {},
   "outputs": [
    {
     "name": "stdout",
     "output_type": "stream",
     "text": [
      "7->5->\n",
      "Popped Element:  7\n",
      "5->\n",
      "Empty Status:  False\n"
     ]
    }
   ],
   "source": [
    "# Stacks usiing linked list\n",
    "class Node:\n",
    "    def __init__(self,value):\n",
    "        self.value = value\n",
    "        self.next = None\n",
    "\n",
    "class Stack:\n",
    "    def __init__(self):\n",
    "        self.head = None\n",
    "        self.size = 0\n",
    "    def push(self,element):\n",
    "        new_node = Node(element)\n",
    "        new_node.next = self.head\n",
    "        self.head = new_node\n",
    "        self.size +=1\n",
    "        return element\n",
    "    def pop(self):\n",
    "        if self.isEmpty():\n",
    "            return \"Stack is Empty. Pop operation can't be performed.\"\n",
    "        popped_element = self.head.value\n",
    "        self.head = self.head.next\n",
    "        self.size -=1\n",
    "        return popped_element\n",
    "    def peek(self):\n",
    "        if self.isEmpty():\n",
    "            return \"Stack is Empty.\"\n",
    "        return self.head.value\n",
    "    def isEmpty(self):\n",
    "        return self.size == 0\n",
    "    def display(self):\n",
    "        current_node = self.head\n",
    "        while(current_node):\n",
    "            print(current_node.value,end = \"->\")\n",
    "            current_node = current_node.next\n",
    "        print()\n",
    "    def size(self):\n",
    "        return self.size\n",
    "    \n",
    "a =Stack()\n",
    "a.push(5)\n",
    "a.push(7)\n",
    "\n",
    "a.display()\n",
    "print(\"Popped Element: \",a.pop())\n",
    "a.display()\n",
    "print(\"Empty Status: \",a.isEmpty())"
   ]
  }
 ],
 "metadata": {
  "kernelspec": {
   "display_name": "Python 3",
   "language": "python",
   "name": "python3"
  },
  "language_info": {
   "codemirror_mode": {
    "name": "ipython",
    "version": 3
   },
   "file_extension": ".py",
   "mimetype": "text/x-python",
   "name": "python",
   "nbconvert_exporter": "python",
   "pygments_lexer": "ipython3",
   "version": "3.13.3"
  }
 },
 "nbformat": 4,
 "nbformat_minor": 5
}
