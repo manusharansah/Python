{
 "cells": [
  {
   "cell_type": "markdown",
   "id": "52891cc4",
   "metadata": {},
   "source": [
    "# List and Arrays\n",
    "List is the collection of multiple items. In python, the items can be of non-homogeneous nature as well. \n"
   ]
  },
  {
   "cell_type": "code",
   "execution_count": 1,
   "id": "7c2abafc",
   "metadata": {},
   "outputs": [
    {
     "name": "stdout",
     "output_type": "stream",
     "text": [
      "[10, 5]\n",
      "[10, 5]\n"
     ]
    }
   ],
   "source": [
    "# Defining List\n",
    "x = []\n",
    "# or x = list() // creating empty list\n",
    "\n",
    "# List methods\n",
    "x.append(5) # Adding 5 to the list\n",
    "\n",
    "x.append(10) # Adding 10 the list\n",
    "x.sort(reverse=True)  # Sorting list in Descending Order\n",
    "\n",
    "for item in x:\n",
    "    print(x)"
   ]
  },
  {
   "cell_type": "markdown",
   "id": "8acf01ed",
   "metadata": {},
   "source": [
    "# Stacks with Python\n",
    "About Stack\n",
    "1. Linear Data Structure\n",
    "2. Works on LIFO (Last in First Out) principle.\n",
    "3. Can be implementerd using list, arrays or linked list.\n",
    "\n",
    "\n",
    "Python list can be used as stack in a very simple way."
   ]
  },
  {
   "cell_type": "code",
   "execution_count": 1,
   "id": "dabe9e02",
   "metadata": {},
   "outputs": [
    {
     "name": "stdout",
     "output_type": "stream",
     "text": [
      "[5, 7]\n",
      "Popped element:  7\n",
      "5\n",
      "Empty status:  False\n",
      "Size of stack:  1\n"
     ]
    }
   ],
   "source": [
    "# Stack using built-in python list\n",
    "\n",
    "stack = []\n",
    "\n",
    "# Push Operation on stack  -> Adding element to stack\n",
    "stack.append(5)\n",
    "stack.append(7)\n",
    "print(stack)\n",
    "\n",
    "# Pop operation -> Removing element from stack and returning it\n",
    "popped_element = stack.pop()\n",
    "print(\"Popped element: \",popped_element)\n",
    "\n",
    "# Peek operation -> Returning last element of stack\n",
    "print(stack[-1])\n",
    "\n",
    "# isEmpty\n",
    "print(\"Empty status: \", not (stack))\n",
    "\n",
    "# Size of stack \n",
    "print(\"Size of stack: \", len(stack))\n",
    "\n",
    "\n"
   ]
  },
  {
   "cell_type": "code",
   "execution_count": null,
   "id": "d4a30093",
   "metadata": {},
   "outputs": [
    {
     "name": "stdout",
     "output_type": "stream",
     "text": [
      "7 5 \n",
      "5 \n",
      "Empty Status:  False\n"
     ]
    }
   ],
   "source": [
    "# Stacks implementation with customixed class for enhanced functionality and encapsulation\n",
    "\n",
    "class Stack:\n",
    "    def __init__(self):\n",
    "        self.stack = []\n",
    "    def push(self,element):\n",
    "        self.stack.append(element)\n",
    "        return element\n",
    "    def pop(self):\n",
    "        if self.isEmpty():\n",
    "            return \"Stack is Empty. Pop operation can't be performed.\"\n",
    "        popped_element = self.stack.pop()\n",
    "        return popped_element\n",
    "    def peek(self):\n",
    "        if self.isEmpty():\n",
    "            return \"Stack is Empty\"\n",
    "        return self.stack[-1]\n",
    "    def isEmpty(self):\n",
    "        return len(self.stack)== 0\n",
    "    def display(self):\n",
    "        if self.isEmpty():\n",
    "            return \"Stack is Empty\"\n",
    "        for i in range(len(self.stack)-1,-1,-1):\n",
    "            print(self.stack[i],end=\" \")\n",
    "        print()\n",
    "a = Stack()\n",
    "a.push(5)\n",
    "a.push(7)\n",
    "\n",
    "a.display()\n",
    "a.pop()\n",
    "a.display()\n",
    "print(\"Empty Status: \",a.isEmpty())\n",
    "\n",
    "\n"
   ]
  },
  {
   "cell_type": "code",
   "execution_count": 9,
   "id": "85afad4a",
   "metadata": {},
   "outputs": [
    {
     "name": "stdout",
     "output_type": "stream",
     "text": [
      "7->5->\n",
      "Popped Element:  7\n",
      "5->\n",
      "Empty Status:  False\n"
     ]
    }
   ],
   "source": [
    "# Stacks usiing linked list\n",
    "class Node:\n",
    "    def __init__(self,value):\n",
    "        self.value = value\n",
    "        self.next = None\n",
    "\n",
    "class Stack:\n",
    "    def __init__(self):\n",
    "        self.head = None\n",
    "        self.size = 0\n",
    "    def push(self,element):\n",
    "        new_node = Node(element)\n",
    "        new_node.next = self.head\n",
    "        self.head = new_node\n",
    "        self.size +=1\n",
    "        return element\n",
    "    def pop(self):\n",
    "        if self.isEmpty():\n",
    "            return \"Stack is Empty. Pop operation can't be performed.\"\n",
    "        popped_element = self.head.value\n",
    "        self.head = self.head.next\n",
    "        self.size -=1\n",
    "        return popped_element\n",
    "    def peek(self):\n",
    "        if self.isEmpty():\n",
    "            return \"Stack is Empty.\"\n",
    "        return self.head.value\n",
    "    def isEmpty(self):\n",
    "        return self.size == 0\n",
    "    def display(self):\n",
    "        current_node = self.head\n",
    "        while(current_node):\n",
    "            print(current_node.value,end = \"->\")\n",
    "            current_node = current_node.next\n",
    "        print()\n",
    "    def size(self):\n",
    "        return self.size\n",
    "    \n",
    "a =Stack()\n",
    "a.push(5)\n",
    "a.push(7)\n",
    "\n",
    "a.display()\n",
    "print(\"Popped Element: \",a.pop())\n",
    "a.display()\n",
    "print(\"Empty Status: \",a.isEmpty())"
   ]
  },
  {
   "cell_type": "markdown",
   "id": "77ca7b34",
   "metadata": {},
   "source": [
    "# Queue\n",
    "Queue is a linear data structure which works on the FIFO (First In First Out) principle which means that element which is inserted (enqueued) fisrt id deleted (dequeued) first.\n",
    "\n",
    "A queue has two pointer namely front and rear, front points to the foremost element and the rear points to the most recent element added to the queue. While dequeueing, front pointer changes its position and while enqueueing rear pointer changes its position."
   ]
  },
  {
   "cell_type": "code",
   "execution_count": 1,
   "id": "ac346948",
   "metadata": {},
   "outputs": [
    {
     "name": "stdout",
     "output_type": "stream",
     "text": [
      "[5, 12]\n",
      "[12]\n",
      "12\n",
      "Empty Status:  False\n",
      "Size of the queue:  1\n"
     ]
    }
   ],
   "source": [
    "# Using python list as queues\n",
    "\n",
    "que = []\n",
    "\n",
    "# Enqueue Operation\n",
    "que.append(5)\n",
    "que.append(12)\n",
    "\n",
    "print(que)\n",
    "\n",
    "# Dequeue operation\n",
    "que.pop(0)  # if 0 is not kept, it works like stack\n",
    "print(que)\n",
    "\n",
    "#Peek operation\n",
    "print(que[0])\n",
    "\n",
    "# Checking whwther queue is empty or not\n",
    "print(\"Empty Status: \", not que)\n",
    "\n",
    "# printing the size of the queue \n",
    "print(\"Size of the queue: \",len(que))"
   ]
  },
  {
   "cell_type": "code",
   "execution_count": 8,
   "id": "2750aeff",
   "metadata": {},
   "outputs": [
    {
     "name": "stdout",
     "output_type": "stream",
     "text": [
      "[5, 6]\n",
      "5\n",
      "6\n",
      "Empty Status:  False\n"
     ]
    }
   ],
   "source": [
    "# Using class to define queue rather than built-in python list\n",
    "\n",
    "class queue:\n",
    "    def __init__(self):\n",
    "        self.que = []\n",
    "    def enqueue(self,element):\n",
    "        self.que.append(element)\n",
    "    def dequeue(self):\n",
    "        if not self.que:\n",
    "            print(\"Queue is empty. Dequeue operation can't be performed.\")\n",
    "            return\n",
    "        return self.que.pop(0)\n",
    "    def peek(self):\n",
    "        if not self.que:\n",
    "            print(\"Queue is empty.\")\n",
    "            return\n",
    "        return self.que[0]\n",
    "    def isEmpty(self):\n",
    "        print(\"Empty Status: \", not self.que)\n",
    "    def display(self):\n",
    "        print(self.que)\n",
    "\n",
    "a = queue()\n",
    "a.enqueue(5)\n",
    "a.enqueue(6)\n",
    "\n",
    "a.display()\n",
    "\n",
    "print(a.dequeue())\n",
    "\n",
    "print(a.peek())\n",
    "\n",
    "a.isEmpty()\n",
    "\n",
    "         \n",
    "    "
   ]
  },
  {
   "cell_type": "code",
   "execution_count": 14,
   "id": "b72e587b",
   "metadata": {},
   "outputs": [
    {
     "name": "stdout",
     "output_type": "stream",
     "text": [
      "5->6->None\n",
      "Dequeued Element:  5\n",
      "6->None\n",
      "First Element:  6\n",
      "Empty Status:  False\n",
      "6->None\n"
     ]
    }
   ],
   "source": [
    "# Linked List Implementation of Queue\n",
    "class node():\n",
    "    def __init__(self,value):\n",
    "        self.value = value\n",
    "        self.next = None\n",
    "    \n",
    "class queue:\n",
    "    def __init__(self):\n",
    "        self.size = 0\n",
    "        self.front = None\n",
    "        self.rear = None\n",
    "    def enqueue(self,element):\n",
    "        self.size +=1\n",
    "        if self.front == self.rear == None:\n",
    "            self.front = self.rear = node(element)\n",
    "            return None\n",
    "        self.rear.next = node(element)\n",
    "        self.rear = self.rear.next\n",
    "    def dequeue(self):\n",
    "        if self.size == 0:\n",
    "            print(\"Queue is empty. Dequeue operation can't be performed.\")\n",
    "            return None\n",
    "        self.size -=1\n",
    "        temp = self.front\n",
    "        self.front = temp.next\n",
    "        if self.front == None:\n",
    "            self.rear = None\n",
    "        return temp.value\n",
    "    def peek(self):\n",
    "        if self.size == 0:\n",
    "            print(\"Queue is empty. Dequeue operation can't be performed.\")\n",
    "            return None\n",
    "        return self.front.value\n",
    "    def isEmpty(self):\n",
    "        return self.size == 0\n",
    "    def display(self):\n",
    "        temp = self.front\n",
    "        while(temp):\n",
    "            print(temp.value, end='->')\n",
    "            temp = temp.next\n",
    "        print(None)\n",
    "    \n",
    "a = queue()\n",
    "a.enqueue(5)\n",
    "a.enqueue(6)\n",
    "\n",
    "a.display()\n",
    "\n",
    "print(\"Dequeued Element: \",a.dequeue())\n",
    "\n",
    "a.display()\n",
    "\n",
    "print(\"First Element: \",a.peek())\n",
    "\n",
    "print(\"Empty Status: \",a.isEmpty())\n",
    "\n",
    "a.display()\n",
    "        "
   ]
  },
  {
   "cell_type": "markdown",
   "id": "db9e8148",
   "metadata": {},
   "source": [
    "# Linked List with Python\n",
    "Linked list are the list that contain nodes which are linked together.  \n",
    "Node contains data and a pointer to the next node or any other linke nodes.  \n",
    "In linked list, when a value is to be stored then a node is create through dynamic memory allocation(any available free space is utilized) and then the previous node pointer is referenced to the created node.\n",
    "Properties of linked list:\n",
    "1. Linked lists are not built-in data type. User creates the linked list data structure itself for implementation.\n",
    "2. Linked list don't store the values in a contiguous manner unlike array.\n",
    "3. Random access is not contant for every node.\n",
    "4. Linked list have low memory efficinecy than array as they store the pointer memory as well.\n",
    "5. Insertion, deleion in linkedlist is of almost constant timeperiod unlike array as it doesn't require shifting of the elements.\n",
    "\n",
    "There are three types of linked list:\n",
    "1. Singly Linked list\n",
    "2. Doubly linked list\n",
    "3. Circular linkd list\n",
    "   \n",
    "Due to similar nature of program and for simplicity we use singly linked list."
   ]
  },
  {
   "cell_type": "markdown",
   "id": "daa292ed",
   "metadata": {},
   "source": [
    "# Linked List Operations\n",
    "1. Traversal (Searching)\n",
    "2. Insertion\n",
    "3. Deletion\n",
    "4. Sorting"
   ]
  },
  {
   "cell_type": "markdown",
   "id": "fe5af5e1",
   "metadata": {},
   "source": [
    "# Traversal in a linked list \n",
    "Traversal is the process of visiting one nodeto another node in a linked list. This is done either for searching a node, inserting a node, deleting a node or to modify the contents of the node. "
   ]
  },
  {
   "cell_type": "code",
   "execution_count": 1,
   "id": "fc8640bd",
   "metadata": {},
   "outputs": [
    {
     "name": "stdout",
     "output_type": "stream",
     "text": [
      "5->7->9->1->None\n"
     ]
    }
   ],
   "source": [
    "# Traversal in singly linked list\n",
    "class Node:\n",
    "    def __init__(self,data):\n",
    "        self.data = data\n",
    "        self.next = None\n",
    "    \n",
    "def traversalfrom(head):\n",
    "    currentNode = head\n",
    "    while(currentNode):\n",
    "        print(currentNode.data,end='->')\n",
    "        currentNode = currentNode.next\n",
    "    print(\"None\")\n",
    "\n",
    "node1 = Node(5)\n",
    "node2 = Node(7)\n",
    "node3 = Node(9)\n",
    "node4 = Node(1)\n",
    "\n",
    "node1.next = node2\n",
    "node2.next = node3\n",
    "node3.next = node4\n",
    "\n",
    "traversalfrom(node1)"
   ]
  },
  {
   "cell_type": "code",
   "execution_count": 2,
   "id": "1e85d29b",
   "metadata": {},
   "outputs": [
    {
     "name": "stdout",
     "output_type": "stream",
     "text": [
      "Minimum Value is:  1\n"
     ]
    }
   ],
   "source": [
    "# Findinding the minimum vlaue in a linked list\n",
    "class Node:\n",
    "    def __init__(self,data):\n",
    "        self.data = data\n",
    "        self.next = None\n",
    "    \n",
    "def minimumval(start):\n",
    "    currentNode = start\n",
    "    minval = start.data\n",
    "    while(currentNode):\n",
    "        if(currentNode.data<minval):\n",
    "            minval = currentNode.data\n",
    "        currentNode = currentNode.next\n",
    "    print(\"Minimum Value is: \",minval)\n",
    "\n",
    "node1 = Node(5)\n",
    "node2 = Node(7)\n",
    "node3 = Node(9)\n",
    "node4 = Node(1)\n",
    "\n",
    "node1.next = node2\n",
    "node2.next = node3\n",
    "node3.next = node4\n",
    "\n",
    "minimumval(node1)"
   ]
  },
  {
   "cell_type": "code",
   "execution_count": null,
   "id": "ba513227",
   "metadata": {},
   "outputs": [],
   "source": [
    "# Other Linked List operations:\n",
    "class Node:\n",
    "    def __init__(self,data):\n",
    "        self.data = data\n",
    "        self.next = None\n",
    "    \n",
    "class LinkedList:\n",
    "    def __init__(self):\n",
    "        self.head = None\n",
    "        self.size = 0\n",
    "    def addNode(self,data,index):\n",
    "        if index>self.size or index<-1:\n",
    "            print(\"Invalid index\")\n",
    "            print(\"Max Allowed Index: \",self.size)\n",
    "            return None\n",
    "        newnode = Node(data)\n",
    "        if index == 0:\n",
    "            newnode.next = self.head\n",
    "            self.head = newnode\n",
    "        elif index == -1 or index == self.size:\n",
    "            currentNode = self.head\n",
    "            if(currentNode is None):\n",
    "                self.head = newnode\n",
    "            else:\n",
    "                while(currentNode.next):\n",
    "                    currentNode = currentNode.next\n",
    "                currentNode.next = newnode\n",
    "        else:\n",
    "            pos = 0\n",
    "            ptr = self.head\n",
    "            while(pos<index-1):\n",
    "                ptr = ptr.next\n",
    "                pos += 1\n",
    "            newnode.next = ptr.next\n",
    "            ptr.next = newnode\n",
    "        self.size += 1\n",
    "        return None\n",
    "    def delNode(self,index):\n",
    "        if(not self.head):\n",
    "            print(\"Linked List is empty. No delete operation can be performed.\")\n",
    "            return None\n",
    "        if index>=self.size or index < -1:\n",
    "            print(\"Invalid index\")\n",
    "            print(\"Max Allowed Index: \",self.size-1)\n",
    "            return None\n",
    "        if index == 0:\n",
    "            self.head = self.head.next\n",
    "        elif index == -1 or index == self.size-1:\n",
    "            currentNode = self.head\n",
    "            if(currentNode.next is None):\n",
    "                self.head = None\n",
    "            else:\n",
    "                while(currentNode.next.next):\n",
    "                    currentNode = currentNode.next\n",
    "                currentNode.next = None\n",
    "        else:\n",
    "            pos = 0\n",
    "            ptr = self.head\n",
    "            while(pos<index-1):\n",
    "                ptr = ptr.next\n",
    "                pos += 1\n",
    "            ptr.next = ptr.next.next\n",
    "        self.size -= 1\n",
    "        return None\n",
    "    def show(self):\n",
    "        ptr = self.head\n",
    "        while(ptr):\n",
    "            print(ptr.data,end='->')\n",
    "            ptr = ptr.next\n",
    "        print(\"None\")\n",
    "        return\n",
    "l = LinkedList()\n",
    "while(True):\n",
    "    res = int(input(\"Insertion of Node(enter 0) Or Deletion of Node(enter 1)\"))\n",
    "    index = int(input(\"Enter index: (0 for head, -1 for end else for specific)\"))\n",
    "    if(res):\n",
    "        l.delNode(index)\n",
    "    else:\n",
    "        data = int(input('Enter the data to be inserted: '))\n",
    "        l.addNode(data,index)\n",
    "    print(\"Current Linked List: \",end=\"\")\n",
    "    l.show()\n",
    "    cont = int(input('Enter 0 to stop, 1 to continue: '))\n",
    "    if (cont==0): break\n",
    "print(\"\\nFinal Linked List\")\n",
    "l.show()\n",
    "\n",
    "        \n"
   ]
  }
 ],
 "metadata": {
  "kernelspec": {
   "display_name": "Python 3",
   "language": "python",
   "name": "python3"
  },
  "language_info": {
   "codemirror_mode": {
    "name": "ipython",
    "version": 3
   },
   "file_extension": ".py",
   "mimetype": "text/x-python",
   "name": "python",
   "nbconvert_exporter": "python",
   "pygments_lexer": "ipython3",
   "version": "3.13.3"
  }
 },
 "nbformat": 4,
 "nbformat_minor": 5
}
