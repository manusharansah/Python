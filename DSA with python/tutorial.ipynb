{
 "cells": [
  {
   "cell_type": "markdown",
   "id": "52891cc4",
   "metadata": {},
   "source": [
    "# List and Arrays\n",
    "List is the collection of multiple items. In python, the items can be of non-homogeneous nature as well. \n"
   ]
  },
  {
   "cell_type": "code",
   "execution_count": 1,
   "id": "7c2abafc",
   "metadata": {},
   "outputs": [
    {
     "name": "stdout",
     "output_type": "stream",
     "text": [
      "[10, 5]\n",
      "[10, 5]\n"
     ]
    }
   ],
   "source": [
    "# Defining List\n",
    "x = []\n",
    "# or x = list() // creating empty list\n",
    "\n",
    "# List methods\n",
    "x.append(5) # Adding 5 to the list\n",
    "\n",
    "x.append(10) # Adding 10 the list\n",
    "x.sort(reverse=True)  # Sorting list in Descending Order\n",
    "\n",
    "for item in x:\n",
    "    print(x)"
   ]
  },
  {
   "cell_type": "markdown",
   "id": "8acf01ed",
   "metadata": {},
   "source": [
    "# Stacks with Python\n",
    "About Stack\n",
    "1. Linear Data Structure\n",
    "2. Works on LIFO (Last in First Out) principle.\n",
    "3. Can be implementerd using list, arrays or linked list.\n",
    "\n",
    "\n",
    "Python list can be used as stack in a very simple way."
   ]
  },
  {
   "cell_type": "code",
   "execution_count": 1,
   "id": "dabe9e02",
   "metadata": {},
   "outputs": [
    {
     "name": "stdout",
     "output_type": "stream",
     "text": [
      "[5, 7]\n",
      "Popped element:  7\n",
      "5\n",
      "Empty status:  False\n",
      "Size of stack:  1\n"
     ]
    }
   ],
   "source": [
    "# Stack using built-in python list\n",
    "\n",
    "stack = []\n",
    "\n",
    "# Push Operation on stack  -> Adding element to stack\n",
    "stack.append(5)\n",
    "stack.append(7)\n",
    "print(stack)\n",
    "\n",
    "# Pop operation -> Removing element from stack and returning it\n",
    "popped_element = stack.pop()\n",
    "print(\"Popped element: \",popped_element)\n",
    "\n",
    "# Peek operation -> Returning last element of stack\n",
    "print(stack[-1])\n",
    "\n",
    "# isEmpty\n",
    "print(\"Empty status: \", not (stack))\n",
    "\n",
    "# Size of stack \n",
    "print(\"Size of stack: \", len(stack))\n",
    "\n",
    "\n"
   ]
  },
  {
   "cell_type": "code",
   "execution_count": null,
   "id": "d4a30093",
   "metadata": {},
   "outputs": [
    {
     "name": "stdout",
     "output_type": "stream",
     "text": [
      "7 5 \n",
      "5 \n",
      "Empty Status:  False\n"
     ]
    }
   ],
   "source": [
    "# Stacks implementation with customixed class for enhanced functionality and encapsulation\n",
    "\n",
    "class Stack:\n",
    "    def __init__(self):\n",
    "        self.stack = []\n",
    "    def push(self,element):\n",
    "        self.stack.append(element)\n",
    "        return element\n",
    "    def pop(self):\n",
    "        if self.isEmpty():\n",
    "            return \"Stack is Empty. Pop operation can't be performed.\"\n",
    "        popped_element = self.stack.pop()\n",
    "        return popped_element\n",
    "    def peek(self):\n",
    "        if self.isEmpty():\n",
    "            return \"Stack is Empty\"\n",
    "        return self.stack[-1]\n",
    "    def isEmpty(self):\n",
    "        return len(self.stack)== 0\n",
    "    def display(self):\n",
    "        if self.isEmpty():\n",
    "            return \"Stack is Empty\"\n",
    "        for i in range(len(self.stack)-1,-1,-1):\n",
    "            print(self.stack[i],end=\" \")\n",
    "        print()\n",
    "a = Stack()\n",
    "a.push(5)\n",
    "a.push(7)\n",
    "\n",
    "a.display()\n",
    "a.pop()\n",
    "a.display()\n",
    "print(\"Empty Status: \",a.isEmpty())\n",
    "\n",
    "\n"
   ]
  },
  {
   "cell_type": "code",
   "execution_count": 9,
   "id": "85afad4a",
   "metadata": {},
   "outputs": [
    {
     "name": "stdout",
     "output_type": "stream",
     "text": [
      "7->5->\n",
      "Popped Element:  7\n",
      "5->\n",
      "Empty Status:  False\n"
     ]
    }
   ],
   "source": [
    "# Stacks usiing linked list\n",
    "class Node:\n",
    "    def __init__(self,value):\n",
    "        self.value = value\n",
    "        self.next = None\n",
    "\n",
    "class Stack:\n",
    "    def __init__(self):\n",
    "        self.head = None\n",
    "        self.size = 0\n",
    "    def push(self,element):\n",
    "        new_node = Node(element)\n",
    "        new_node.next = self.head\n",
    "        self.head = new_node\n",
    "        self.size +=1\n",
    "        return element\n",
    "    def pop(self):\n",
    "        if self.isEmpty():\n",
    "            return \"Stack is Empty. Pop operation can't be performed.\"\n",
    "        popped_element = self.head.value\n",
    "        self.head = self.head.next\n",
    "        self.size -=1\n",
    "        return popped_element\n",
    "    def peek(self):\n",
    "        if self.isEmpty():\n",
    "            return \"Stack is Empty.\"\n",
    "        return self.head.value\n",
    "    def isEmpty(self):\n",
    "        return self.size == 0\n",
    "    def display(self):\n",
    "        current_node = self.head\n",
    "        while(current_node):\n",
    "            print(current_node.value,end = \"->\")\n",
    "            current_node = current_node.next\n",
    "        print()\n",
    "    def size(self):\n",
    "        return self.size\n",
    "    \n",
    "a =Stack()\n",
    "a.push(5)\n",
    "a.push(7)\n",
    "\n",
    "a.display()\n",
    "print(\"Popped Element: \",a.pop())\n",
    "a.display()\n",
    "print(\"Empty Status: \",a.isEmpty())"
   ]
  },
  {
   "cell_type": "markdown",
   "id": "77ca7b34",
   "metadata": {},
   "source": [
    "# Queue\n",
    "Queue is a linear data structure which works on the FIFO (First In First Out) principle which means that element which is inserted (enqueued) fisrt id deleted (dequeued) first.\n",
    "\n",
    "A queue has two pointer namely front and rear, front points to the foremost element and the rear points to the most recent element added to the queue. While dequeueing, front pointer changes its position and while enqueueing rear pointer changes its position."
   ]
  },
  {
   "cell_type": "code",
   "execution_count": 1,
   "id": "ac346948",
   "metadata": {},
   "outputs": [
    {
     "name": "stdout",
     "output_type": "stream",
     "text": [
      "[5, 12]\n",
      "[12]\n",
      "12\n",
      "Empty Status:  False\n",
      "Size of the queue:  1\n"
     ]
    }
   ],
   "source": [
    "# Using python list as queues\n",
    "\n",
    "que = []\n",
    "\n",
    "# Enqueue Operation\n",
    "que.append(5)\n",
    "que.append(12)\n",
    "\n",
    "print(que)\n",
    "\n",
    "# Dequeue operation\n",
    "que.pop(0)  # if 0 is not kept, it works like stack\n",
    "print(que)\n",
    "\n",
    "#Peek operation\n",
    "print(que[0])\n",
    "\n",
    "# Checking whwther queue is empty or not\n",
    "print(\"Empty Status: \", not que)\n",
    "\n",
    "# printing the size of the queue \n",
    "print(\"Size of the queue: \",len(que))"
   ]
  },
  {
   "cell_type": "code",
   "execution_count": 8,
   "id": "2750aeff",
   "metadata": {},
   "outputs": [
    {
     "name": "stdout",
     "output_type": "stream",
     "text": [
      "[5, 6]\n",
      "5\n",
      "6\n",
      "Empty Status:  False\n"
     ]
    }
   ],
   "source": [
    "# Using class to define queue rather than built-in python list\n",
    "\n",
    "class queue:\n",
    "    def __init__(self):\n",
    "        self.que = []\n",
    "    def enqueue(self,element):\n",
    "        self.que.append(element)\n",
    "    def dequeue(self):\n",
    "        if not self.que:\n",
    "            print(\"Queue is empty. Dequeue operation can't be performed.\")\n",
    "            return\n",
    "        return self.que.pop(0)\n",
    "    def peek(self):\n",
    "        if not self.que:\n",
    "            print(\"Queue is empty.\")\n",
    "            return\n",
    "        return self.que[0]\n",
    "    def isEmpty(self):\n",
    "        print(\"Empty Status: \", not self.que)\n",
    "    def display(self):\n",
    "        print(self.que)\n",
    "\n",
    "a = queue()\n",
    "a.enqueue(5)\n",
    "a.enqueue(6)\n",
    "\n",
    "a.display()\n",
    "\n",
    "print(a.dequeue())\n",
    "\n",
    "print(a.peek())\n",
    "\n",
    "a.isEmpty()\n",
    "\n",
    "         \n",
    "    "
   ]
  },
  {
   "cell_type": "code",
   "execution_count": 14,
   "id": "b72e587b",
   "metadata": {},
   "outputs": [
    {
     "name": "stdout",
     "output_type": "stream",
     "text": [
      "5->6->None\n",
      "Dequeued Element:  5\n",
      "6->None\n",
      "First Element:  6\n",
      "Empty Status:  False\n",
      "6->None\n"
     ]
    }
   ],
   "source": [
    "# Linked List Implementation of Queue\n",
    "class node():\n",
    "    def __init__(self,value):\n",
    "        self.value = value\n",
    "        self.next = None\n",
    "    \n",
    "class queue:\n",
    "    def __init__(self):\n",
    "        self.size = 0\n",
    "        self.front = None\n",
    "        self.rear = None\n",
    "    def enqueue(self,element):\n",
    "        self.size +=1\n",
    "        if self.front == self.rear == None:\n",
    "            self.front = self.rear = node(element)\n",
    "            return None\n",
    "        self.rear.next = node(element)\n",
    "        self.rear = self.rear.next\n",
    "    def dequeue(self):\n",
    "        if self.size == 0:\n",
    "            print(\"Queue is empty. Dequeue operation can't be performed.\")\n",
    "            return None\n",
    "        self.size -=1\n",
    "        temp = self.front\n",
    "        self.front = temp.next\n",
    "        if self.front == None:\n",
    "            self.rear = None\n",
    "        return temp.value\n",
    "    def peek(self):\n",
    "        if self.size == 0:\n",
    "            print(\"Queue is empty. Dequeue operation can't be performed.\")\n",
    "            return None\n",
    "        return self.front.value\n",
    "    def isEmpty(self):\n",
    "        return self.size == 0\n",
    "    def display(self):\n",
    "        temp = self.front\n",
    "        while(temp):\n",
    "            print(temp.value, end='->')\n",
    "            temp = temp.next\n",
    "        print(None)\n",
    "    \n",
    "a = queue()\n",
    "a.enqueue(5)\n",
    "a.enqueue(6)\n",
    "\n",
    "a.display()\n",
    "\n",
    "print(\"Dequeued Element: \",a.dequeue())\n",
    "\n",
    "a.display()\n",
    "\n",
    "print(\"First Element: \",a.peek())\n",
    "\n",
    "print(\"Empty Status: \",a.isEmpty())\n",
    "\n",
    "a.display()\n",
    "        "
   ]
  },
  {
   "cell_type": "markdown",
   "id": "db9e8148",
   "metadata": {},
   "source": [
    "# Linked List with Python\n",
    "Linked list are the list that contain nodes which are linked together.  \n",
    "Node contains data and a pointer to the next node or any other linke nodes.  \n",
    "In linked list, when a value is to be stored then a node is create through dynamic memory allocation(any available free space is utilized) and then the previous node pointer is referenced to the created node.\n",
    "Properties of linked list:\n",
    "1. Linked lists are not built-in data type. User creates the linked list data structure itself for implementation.\n",
    "2. Linked list don't store the values in a contiguous manner unlike array.\n",
    "3. Random access is not contant for every node.\n",
    "4. Linked list have low memory efficinecy than array as they store the pointer memory as well.\n",
    "5. Insertion, deleion in linkedlist is of almost constant timeperiod unlike array as it doesn't require shifting of the elements.\n",
    "\n",
    "There are three types of linked list:\n",
    "1. Singly Linked list\n",
    "2. Doubly linked list\n",
    "3. Circular linkd list\n",
    "   \n",
    "Due to similar nature of program and for simplicity we use singly linked list."
   ]
  },
  {
   "cell_type": "markdown",
   "id": "daa292ed",
   "metadata": {},
   "source": [
    "# Linked List Operations\n",
    "1. Traversal (Searching)\n",
    "2. Insertion\n",
    "3. Deletion\n",
    "4. Sorting"
   ]
  },
  {
   "cell_type": "markdown",
   "id": "fe5af5e1",
   "metadata": {},
   "source": [
    "# Traversal in a linked list \n",
    "Traversal is the process of visiting one nodeto another node in a linked list. This is done either for searching a node, inserting a node, deleting a node or to modify the contents of the node. "
   ]
  },
  {
   "cell_type": "code",
   "execution_count": 1,
   "id": "fc8640bd",
   "metadata": {},
   "outputs": [
    {
     "name": "stdout",
     "output_type": "stream",
     "text": [
      "5->7->9->1->None\n"
     ]
    }
   ],
   "source": [
    "# Traversal in singly linked list\n",
    "class Node:\n",
    "    def __init__(self,data):\n",
    "        self.data = data\n",
    "        self.next = None\n",
    "    \n",
    "def traversalfrom(head):\n",
    "    currentNode = head\n",
    "    while(currentNode):\n",
    "        print(currentNode.data,end='->')\n",
    "        currentNode = currentNode.next\n",
    "    print(\"None\")\n",
    "\n",
    "node1 = Node(5)\n",
    "node2 = Node(7)\n",
    "node3 = Node(9)\n",
    "node4 = Node(1)\n",
    "\n",
    "node1.next = node2\n",
    "node2.next = node3\n",
    "node3.next = node4\n",
    "\n",
    "traversalfrom(node1)"
   ]
  },
  {
   "cell_type": "code",
   "execution_count": 2,
   "id": "1e85d29b",
   "metadata": {},
   "outputs": [
    {
     "name": "stdout",
     "output_type": "stream",
     "text": [
      "Minimum Value is:  1\n"
     ]
    }
   ],
   "source": [
    "# Findinding the minimum vlaue in a linked list\n",
    "class Node:\n",
    "    def __init__(self,data):\n",
    "        self.data = data\n",
    "        self.next = None\n",
    "    \n",
    "def minimumval(start):\n",
    "    currentNode = start\n",
    "    minval = start.data\n",
    "    while(currentNode):\n",
    "        if(currentNode.data<minval):\n",
    "            minval = currentNode.data\n",
    "        currentNode = currentNode.next\n",
    "    print(\"Minimum Value is: \",minval)\n",
    "\n",
    "node1 = Node(5)\n",
    "node2 = Node(7)\n",
    "node3 = Node(9)\n",
    "node4 = Node(1)\n",
    "\n",
    "node1.next = node2\n",
    "node2.next = node3\n",
    "node3.next = node4\n",
    "\n",
    "minimumval(node1)"
   ]
  },
  {
   "cell_type": "code",
   "execution_count": null,
   "id": "ba513227",
   "metadata": {},
   "outputs": [],
   "source": [
    "# Other Linked List operations:\n",
    "class Node:\n",
    "    def __init__(self,data):\n",
    "        self.data = data\n",
    "        self.next = None\n",
    "    \n",
    "class LinkedList:\n",
    "    def __init__(self):\n",
    "        self.head = None\n",
    "        self.size = 0\n",
    "    def addNode(self,data,index):\n",
    "        if index>self.size or index<-1:\n",
    "            print(\"Invalid index\")\n",
    "            print(\"Max Allowed Index: \",self.size)\n",
    "            return None\n",
    "        newnode = Node(data)\n",
    "        if index == 0:\n",
    "            newnode.next = self.head\n",
    "            self.head = newnode\n",
    "        elif index == -1 or index == self.size:\n",
    "            currentNode = self.head\n",
    "            if(currentNode is None):\n",
    "                self.head = newnode\n",
    "            else:\n",
    "                while(currentNode.next):\n",
    "                    currentNode = currentNode.next\n",
    "                currentNode.next = newnode\n",
    "        else:\n",
    "            pos = 0\n",
    "            ptr = self.head\n",
    "            while(pos<index-1):\n",
    "                ptr = ptr.next\n",
    "                pos += 1\n",
    "            newnode.next = ptr.next\n",
    "            ptr.next = newnode\n",
    "        self.size += 1\n",
    "        return None\n",
    "    def delNode(self,index):\n",
    "        if(not self.head):\n",
    "            print(\"Linked List is empty. No delete operation can be performed.\")\n",
    "            return None\n",
    "        if index>=self.size or index < -1:\n",
    "            print(\"Invalid index\")\n",
    "            print(\"Max Allowed Index: \",self.size-1)\n",
    "            return None\n",
    "        if index == 0:\n",
    "            self.head = self.head.next\n",
    "        elif index == -1 or index == self.size-1:\n",
    "            currentNode = self.head\n",
    "            if(currentNode.next is None):\n",
    "                self.head = None\n",
    "            else:\n",
    "                while(currentNode.next.next):\n",
    "                    currentNode = currentNode.next\n",
    "                currentNode.next = None\n",
    "        else:\n",
    "            pos = 0\n",
    "            ptr = self.head\n",
    "            while(pos<index-1):\n",
    "                ptr = ptr.next\n",
    "                pos += 1\n",
    "            ptr.next = ptr.next.next\n",
    "        self.size -= 1\n",
    "        return None\n",
    "    def show(self):\n",
    "        ptr = self.head\n",
    "        while(ptr):\n",
    "            print(ptr.data,end='->')\n",
    "            ptr = ptr.next\n",
    "        print(\"None\")\n",
    "        return\n",
    "l = LinkedList()\n",
    "while(True):\n",
    "    res = int(input(\"Insertion of Node(enter 0) Or Deletion of Node(enter 1)\"))\n",
    "    index = int(input(\"Enter index: (0 for head, -1 for end else for specific)\"))\n",
    "    if(res):\n",
    "        l.delNode(index)\n",
    "    else:\n",
    "        data = int(input('Enter the data to be inserted: '))\n",
    "        l.addNode(data,index)\n",
    "    print(\"Current Linked List: \",end=\"\")\n",
    "    l.show()\n",
    "    cont = int(input('Enter 0 to stop, 1 to continue: '))\n",
    "    if (cont==0): break\n",
    "print(\"\\nFinal Linked List\")\n",
    "l.show()\n",
    "\n",
    "        \n"
   ]
  },
  {
   "cell_type": "markdown",
   "id": "4ace001d",
   "metadata": {},
   "source": [
    "# Hash Tables \n",
    "Hash table is a data structure that is used for time-efficient data storing and data searching. Hash Tables are prefered over arrays and linked list because they searching, adding or deleting the values can be easier and much faster than arrays and linked lists.  \n",
    "\n",
    "Each of the indexes where the elements are stored is called a bucket.  \n",
    "To store or find the data in hash table we use a method called hashing. For element to be stored or searched we use a mathematical function called hashing to find its place in hash table. and the value returned by it is known as hash code.\n",
    "\n",
    "Sometimes two or more lements get the same index in hash table. This is known as collision. To tremove this there are many techniques, but here for simplicity, we use the chaining method so that elemnets gettting same index get stored as a list in the same index of the hash table."
   ]
  },
  {
   "cell_type": "code",
   "execution_count": null,
   "id": "67a5f655",
   "metadata": {},
   "outputs": [
    {
     "name": "stdout",
     "output_type": "stream",
     "text": [
      "Index\tValue\n",
      "0\t['Kumar']\n",
      "1\t['Manu', 'Sharan']\n",
      "2\t[]\n",
      "3\t['Habibi']\n",
      "Manu exists in hashtable:  True\n"
     ]
    }
   ],
   "source": [
    "# hashing to store different names\n",
    "names = ['Manu','Sharan','Kumar','Habibi']\n",
    "hashtable = [[] for i in range(0,len(names))]\n",
    "\n",
    "def hash_func(word):\n",
    "    s = 0\n",
    "    for char in word:\n",
    "        s+=ord(char)\n",
    "    return s%4\n",
    "def add(word):\n",
    "    hashtable[hash_func(word)].append(word)\n",
    "    return None\n",
    "for name in names:\n",
    "    add(name)\n",
    "print(f\"Index\\tValue\")\n",
    "for i,x in enumerate(hashtable):\n",
    "    print(f\"{i}\\t{x}\")\n",
    "\n",
    "# searching for an element in hashtable\n",
    "print(\"Manu exists in hashtable: \",'Manu' in hashtable[hash_func('Manu')])"
   ]
  },
  {
   "cell_type": "markdown",
   "id": "b0d7a9c4",
   "metadata": {},
   "source": [
    "Hash Tables are great for:\n",
    "\n",
    "1. Checking if something is in a collection (like finding a book in a library).\n",
    "2. Storing unique items and quickly finding them (like storing phone numbers).\n",
    "3. Connecting values to keys (like linking names to phone numbers).\n",
    "\n",
    "Also, the average time complexity to search and store the element in a hash table O(1) unlike O(n) in arrays and linked list.\n"
   ]
  },
  {
   "cell_type": "markdown",
   "id": "e6396bca",
   "metadata": {},
   "source": [
    "# Trees\n",
    "A tree is a non-linear data structure that may contain multiple pathways after a given element. It is a hierarchical data structure consisting of nodes connected by edges. Each node contains a value and references to its child nodes. In a Tree, a single element can have multiple 'next' elements, allowing the data structure to branch out in various directions.\n",
    "\n",
    "The Tree data structure can be useful in many cases:\n",
    "\n",
    "Hierarchical Data: File systems, organizational models, etc.\n",
    "Databases: Used for quick data retrieval.\n",
    "Routing Tables: Used for routing data in network algorithms.\n",
    "Sorting/Searching: Used for sorting data and searching for data.\n",
    "Priority Queues: Priority queue data structures are commonly implemented using trees, such as binary heaps.\n",
    "\n"
   ]
  },
  {
   "cell_type": "markdown",
   "id": "fabb7993",
   "metadata": {},
   "source": [
    "# Trees Vs Arrays Vs Linked List\n",
    "array -> efficient random access but seraching, inserting and deleting the nodes are time-consuming  \n",
    "linkedlist-> fast insertion and deletion but searching for a node is not efficient  \n",
    "trees-> combines the advantages of array and linked list with both fast searching, fast insertion and deletion of node."
   ]
  },
  {
   "cell_type": "markdown",
   "id": "f4e60e36",
   "metadata": {},
   "source": [
    "# Binary Trees\n",
    "A binary tree is a tree with at most two chid nodes, a left node and a right node. Binary tree has many benefits like:\n",
    "1. Some special binary trees like binary search tree are very-efficient for seraching, insertion and deletion.\n",
    "2. Balancing tree is easier as it has less number of child nodes(at most 2).\n",
    "3. They can be represented using arrays, meaning they are memory-efficient."
   ]
  },
  {
   "cell_type": "code",
   "execution_count": 9,
   "id": "5f6afd14",
   "metadata": {},
   "outputs": [
    {
     "name": "stdout",
     "output_type": "stream",
     "text": [
      "root.right.left.data:  E\n"
     ]
    }
   ],
   "source": [
    "# Creating a binary tree.\n",
    "class TreeNode:\n",
    "    def __init__(self,value):\n",
    "        self.value = value\n",
    "        self.left = None\n",
    "        self.right = None\n",
    "\n",
    "root = TreeNode('R')\n",
    "nodeA = TreeNode('A')\n",
    "nodeB = TreeNode('B')\n",
    "nodeC = TreeNode('C')\n",
    "nodeD = TreeNode('D')\n",
    "nodeE = TreeNode('E')\n",
    "nodeF = TreeNode('F')\n",
    "nodeG = TreeNode('G')\n",
    "\n",
    "root.left = nodeA\n",
    "root.right = nodeB\n",
    "\n",
    "nodeA.left = nodeC\n",
    "nodeA.right = nodeD\n",
    "\n",
    "nodeB.left = nodeE\n",
    "nodeB.right = nodeF\n",
    "\n",
    "nodeF.left = nodeG\n",
    "\n",
    "# getting the left element of the node right to the root \n",
    "print(\"root.right.left.data: \",root.right.left.value)"
   ]
  },
  {
   "cell_type": "markdown",
   "id": "12d1b2c3",
   "metadata": {},
   "source": [
    "# Types of Binary tree:\n",
    "1. Balanced Binary Tree: A balanced Binary Tree has at most 1 in difference between its left and right subtree heights, for each node in the tree.  \n",
    "2. Complete Binary Tree: A complete Binary Tree has all levels full of nodes, except the last level, which is can also be full, or filled from left to right. \n",
    "3. Full Binary Tree: A full Binary Tree is a kind of tree where each node has either 0 or 2 child nodes.\n",
    "4. Perfect Binary Tree: A perfect Binary Tree has all leaf nodes on the same level, which means that all levels are full of nodes, and all internal nodes have two child nodes."
   ]
  },
  {
   "cell_type": "markdown",
   "id": "17e7c4b1",
   "metadata": {},
   "source": [
    "# Binary Tree Traversal\n",
    "Traversal is the process of visiting all the nodes of the tree. There are two types of traversal:\n",
    "1. Breadth First Search(BFS) Traversal\n",
    "2. Depth First Search(DFS) Traversal\n",
    "\n",
    "In Breadth First Search (BFS), the nodes on the same level are visited before going to the next level in the tree. This means that the tree is explored in a more sideways direction.\n",
    "\n",
    "Depth First Search (DFS) is when the traversal moves down the tree all the way to the leaf nodes, exploring the tree branch by branch in a downwards direction.\n",
    "\n",
    "There are three different types of DFS traversals:\n",
    "\n",
    "1. pre-order (root-left-right)\n",
    "2. in-order (left-root-right)\n",
    "3. post-order (left-right-root)"
   ]
  },
  {
   "cell_type": "markdown",
   "id": "cae53e4c",
   "metadata": {},
   "source": [
    "# Pre-Order Traversal\n",
    "Pre-order Traversal is done by visiting the root node first, then recursively do a pre-order traversal of the left subtree, followed by a recursive pre-order traversal of the right subtree.  It's used for creating a copy of the tree, prefix notation of an expression tree, etc."
   ]
  },
  {
   "cell_type": "code",
   "execution_count": null,
   "id": "f6320563",
   "metadata": {},
   "outputs": [
    {
     "name": "stdout",
     "output_type": "stream",
     "text": [
      "R A C D B E F G "
     ]
    }
   ],
   "source": [
    "def preorder(root):\n",
    "    if root == None:\n",
    "        return None\n",
    "    print(root.value, end=' ')\n",
    "    preorder(root.left)\n",
    "    preorder(root.right)\n",
    "print(\"Pre-order traversal\")\n",
    "preorder(root)"
   ]
  },
  {
   "cell_type": "markdown",
   "id": "c2a93eb6",
   "metadata": {},
   "source": [
    "# In-Order Traversal\n",
    "In-order Traversal does a recursive In-order Traversal of the left subtree, visits the root node, and finally, does a recursive In-order Traversal of the right subtree. This traversal is mainly used for Binary Search Trees where it returns values in ascending order."
   ]
  },
  {
   "cell_type": "code",
   "execution_count": 17,
   "id": "78857acb",
   "metadata": {},
   "outputs": [
    {
     "name": "stdout",
     "output_type": "stream",
     "text": [
      "In-order traversal\n",
      "C A D R E B G F "
     ]
    }
   ],
   "source": [
    "def inorder(root):\n",
    "    if root == None:\n",
    "        return None\n",
    "    inorder(root.left)\n",
    "    print(root.value, end=' ')\n",
    "    inorder(root.right)\n",
    "\n",
    "\n",
    "print(\"In-order traversal\")\n",
    "inorder(root)"
   ]
  },
  {
   "cell_type": "markdown",
   "id": "b6e6d14d",
   "metadata": {},
   "source": [
    "# Post-Order Traversal\n",
    "Post-order Traversal works by recursively doing a Post-order Traversal of the left subtree and the right subtree, followed by a visit to the root node. It is used for deleting a tree, post-fix notation of an expression tree, etc.\n"
   ]
  },
  {
   "cell_type": "code",
   "execution_count": 16,
   "id": "7169c1b5",
   "metadata": {},
   "outputs": [
    {
     "name": "stdout",
     "output_type": "stream",
     "text": [
      "Post-order traversal\n",
      "C D A E G F B R "
     ]
    }
   ],
   "source": [
    "def postorder(root):\n",
    "    if root == None:\n",
    "        return None\n",
    "    postorder(root.left)\n",
    "    postorder(root.right)\n",
    "    print(root.value, end=' ')\n",
    "\n",
    "\n",
    "print(\"Post-order traversal\")\n",
    "postorder(root)"
   ]
  },
  {
   "cell_type": "markdown",
   "id": "88673f6a",
   "metadata": {},
   "source": [
    "# Binary Search Trees\n",
    "Binary search tree is a special type of binary tree in which the the values of each node in the left subtree is less than that os the node and the value in the right subtree is greater that of the node.  \n",
    "Binary search trees are optimized for searching operations and make operations like deletion, insertion faster.  \n",
    "During insertion or deletion, there is no requirement of shifting of the previous nodes making deletion and insertion faster.  \n",
    "Also, the time complexity of these operations is O(h), where h is the height of the tree.  \n",
    "The inorder traversal of binary search tree gives the ascending order of the nodes."
   ]
  },
  {
   "cell_type": "code",
   "execution_count": null,
   "id": "3a074f9b",
   "metadata": {},
   "outputs": [
    {
     "name": "stdout",
     "output_type": "stream",
     "text": [
      "4 14 15 \n",
      "4 15 "
     ]
    }
   ],
   "source": [
    "# Creating a binary search tree\n",
    "class TreeNode():\n",
    "    def __init__(self,value):\n",
    "        self.value = value\n",
    "        self.left = None\n",
    "        self.right = None\n",
    "\n",
    "\n",
    "def insert(node,value):\n",
    "    if node is None:\n",
    "        return TreeNode(value)\n",
    "    if node.value == value:\n",
    "        print(\"This value is already present in tree.\")\n",
    "        return node\n",
    "    if value <node.value:\n",
    "        node.left = insert(node.left,value)\n",
    "    else:\n",
    "        node.right = insert(node.right,value)\n",
    "    return node\n",
    "\n",
    "\n",
    "def traversal(node):\n",
    "    if node is None:\n",
    "        return\n",
    "    traversal(node.left)\n",
    "    print(node.value,end=' ')\n",
    "    traversal(node.right)\n",
    "\n",
    "def minofsubtree(node):\n",
    "    while(node.left):\n",
    "        node = node.left\n",
    "    return node\n",
    "def delete(node,value):\n",
    "    if node is None:\n",
    "        print(\"This value is not present in the tree.\")\n",
    "        return None\n",
    "    if value<node.value:\n",
    "        node.left = delete(node.left,value)\n",
    "    elif value > node.value:\n",
    "        node.right = delete(node.right,value)\n",
    "    else:\n",
    "        if node.left is None:\n",
    "            return node.right\n",
    "        elif node.right is None:\n",
    "            return node.left\n",
    "        node.value = minofsubtree(node.right).value\n",
    "        node.right = delete(node.right,node.value)\n",
    "    return node\n",
    "root = None\n",
    "root = insert(root,14)\n",
    "insert(root,4)\n",
    "insert(root,15)\n",
    "traversal(root)\n",
    "print()\n",
    "root = delete(root,14)\n",
    "traversal(root)\n"
   ]
  },
  {
   "cell_type": "markdown",
   "id": "fd3fd6ca",
   "metadata": {},
   "source": [
    "# AVL Trees\n",
    "AVL trees are balanced binary search trees in which the difference of the heights of the left sub-tree and right sub-tree of each node is always between -1 to 1. This means the heights of the subtree of any node can differ by at most one. AVL tree is a self balancing tree and are optimized for searching, insertion and deletion that a general BST."
   ]
  },
  {
   "cell_type": "code",
   "execution_count": 14,
   "id": "334679f9",
   "metadata": {},
   "outputs": [
    {
     "name": "stdout",
     "output_type": "stream",
     "text": [
      "A B C D E F G H \n",
      "Current height of tree:  4\n",
      "A B C D F G H \n",
      "Current height of tree:  4\n"
     ]
    }
   ],
   "source": [
    "class TreeNode():\n",
    "    def __init__(self,value):\n",
    "        self.value = value\n",
    "        self.left = None\n",
    "        self.right = None\n",
    "        self.height = 1\n",
    "\n",
    "\n",
    "def traversal(node):\n",
    "    if node is None:\n",
    "        return\n",
    "    traversal(node.left)\n",
    "    print(node.value,end=' ')\n",
    "    traversal(node.right)\n",
    "    \n",
    "def height(node):\n",
    "    if not node:\n",
    "        return 0\n",
    "    return node.height\n",
    "\n",
    "def balfactor(node):\n",
    "    if not node:\n",
    "        return 0\n",
    "    return height(node.left)-height(node.right)\n",
    "\n",
    "def rightrotation(y):\n",
    "    x = y.left\n",
    "    y.left = x.right\n",
    "    x.right = y\n",
    "    y.height = 1 + max(height(y.left),height(y.right))\n",
    "    x.height = 1 + max(height(x.left),height(x.right))\n",
    "    return x\n",
    "\n",
    "def leftrotation(y):\n",
    "    x = y.right\n",
    "    y.right = x.left\n",
    "    x.left = y\n",
    "    y.height = 1 + max(height(y.left),height(y.right))\n",
    "    x.height = 1 + max(height(x.left),height(x.right))\n",
    "    return x\n",
    "\n",
    "def balancenode(node):\n",
    "    if balfactor(node) > 1:\n",
    "        if balfactor(node.left) >= 0:   \n",
    "            return rightrotation(node)\n",
    "        else:                         \n",
    "            node.left = leftrotation(node.left)\n",
    "            return rightrotation(node)\n",
    "        \n",
    "    if balfactor(node) < -1:\n",
    "        if balfactor(node.right) <= 0: \n",
    "            return leftrotation(node)\n",
    "        else:                           \n",
    "            node.right = rightrotation(node.right)\n",
    "            return leftrotation(node)\n",
    "    return node\n",
    "\n",
    "def insert(node,value):\n",
    "    if node is None:\n",
    "        return TreeNode(value)\n",
    "    if value == node.value:\n",
    "        print(\"This node is already present in the tree.\")\n",
    "        return node\n",
    "    elif value < node.value:\n",
    "        node.left = insert(node.left,value)\n",
    "    else:\n",
    "        node.right = insert(node.right,value)\n",
    "\n",
    "    node.height = 1 + max(height(node.left),height(node.right))\n",
    "    \n",
    "    return balancenode(node)\n",
    "\n",
    "def minofsubtree(node):\n",
    "    while(node.left):\n",
    "        node = node.left\n",
    "    return node\n",
    "\n",
    "def delete(node,value):\n",
    "    if node is None:\n",
    "        print(\"This value is not present in the tree.\")\n",
    "        return None\n",
    "    if value<node.value:\n",
    "        node.left = delete(node.left,value)\n",
    "    elif value > node.value:\n",
    "        node.right = delete(node.right,value)\n",
    "    else:\n",
    "        if node.left is None:\n",
    "            return node.right\n",
    "        elif node.right is None:\n",
    "            return node.left\n",
    "        node.value = minofsubtree(node.right).value\n",
    "        node.right = delete(node.right,node.value)\n",
    "\n",
    "    node.height = 1 + max(height(node.left),height(node.right))\n",
    "    \n",
    "    return balancenode(node)\n",
    "\n",
    "\n",
    "root = None\n",
    "vals = ['C', 'B', 'E', 'A', 'D', 'H', 'G', 'F']\n",
    "for val in vals:\n",
    "  root = insert(root, val)\n",
    "\n",
    "traversal(root)\n",
    "print()\n",
    "print(\"Current height of tree: \",root.height)\n",
    "delete(root,'E')\n",
    "traversal(root)\n",
    "print()\n",
    "print(\"Current height of tree: \",root.height)\n"
   ]
  },
  {
   "cell_type": "markdown",
   "id": "8d49d592",
   "metadata": {},
   "source": [
    "# Graphs\n",
    "Graph is a non-linear data structure that represents the connection between multiple vertices or nodes through edges. \n",
    "Graphs are used to represent and solve problems where the data consists of objects and relationships between them, such as:\n",
    "1. Social Networks: Each person is a vertex, and relationships (like friendships) are the edges. Algorithms can suggest potential friends.\n",
    "2. Maps and Navigation: Locations, like a town or bus stops, are stored as vertices, and roads are stored as edges. Algorithms can find the shortest route between two locations when stored as a Graph.\n",
    "3. Internet: Can be represented as a Graph, with web pages as vertices and hyperlinks as edges.\n",
    "4. Biology: Graphs can model systems like neural networks or the spread of diseases.\n"
   ]
  },
  {
   "cell_type": "markdown",
   "id": "10754b5a",
   "metadata": {},
   "source": [
    "![](images/g1.png)\n",
    "![](images/g2.png)\n",
    "![](images/g3.png)\n",
    "![](images/g4.png)\n",
    "![](images/g5.png)"
   ]
  },
  {
   "cell_type": "markdown",
   "id": "f3388f47",
   "metadata": {},
   "source": [
    "# Searching\n",
    "It is the process of checking whether the element is present in a list or array."
   ]
  },
  {
   "cell_type": "code",
   "execution_count": 18,
   "id": "843e03eb",
   "metadata": {},
   "outputs": [
    {
     "name": "stdout",
     "output_type": "stream",
     "text": [
      "List:  [13 14 17 15 19]\n",
      "12 not in list\n",
      "13 in list\n",
      "14 in list\n",
      "15 in list\n",
      "16 not in list\n",
      "17 in list\n",
      "18 not in list\n",
      "19 in list\n"
     ]
    }
   ],
   "source": [
    "# Searching item in pythonn list using in keyword\n",
    "import numpy as np\n",
    "\n",
    "mylist = np.random.choice(np.arange(12,20),5,replace=False)\n",
    "print(\"List: \",mylist)\n",
    "for i in range(12,20):\n",
    "    if i in mylist:\n",
    "        print(f\"{i} in list\")\n",
    "    else:\n",
    "        print(f\"{i} not in list\")\n"
   ]
  },
  {
   "cell_type": "markdown",
   "id": "75c11d5d",
   "metadata": {},
   "source": [
    "# Linear Search (Sequential Search)\n",
    "Linear search is a searching algorithm in which the target element is searched by comparing with each element one by one. If no element matches the target then target element is said to be not present.\n",
    "\n",
    "Since, teh target elemnet is to be compared to each element in the given list. The time complexity of the linear search is O(n)."
   ]
  },
  {
   "cell_type": "code",
   "execution_count": 19,
   "id": "7b1a8a92",
   "metadata": {},
   "outputs": [
    {
     "name": "stdout",
     "output_type": "stream",
     "text": [
      "4 found at index 7 in the given list\n"
     ]
    }
   ],
   "source": [
    "def linearsearch(l,target):\n",
    "    for i in range(len(l)):\n",
    "        if l[i] == target:\n",
    "            return i\n",
    "    return -1\n",
    "\n",
    "mylist = [3, 7, 2, 9, 5, 1, 8, 4, 6]\n",
    "x = 4\n",
    "\n",
    "result = linearsearch(mylist, x)\n",
    "\n",
    "if result == -1:\n",
    "    print(f\"{x} is not in given list\")\n",
    "else:\n",
    "    print(f\"{x} found at index {result} in the given list\")"
   ]
  },
  {
   "cell_type": "markdown",
   "id": "b0f08ea6",
   "metadata": {},
   "source": [
    "# Binary Search (Logarithmic Search)\n",
    "It is a search technique which is implemented in sorted array.  \n",
    "The Binary Search algorithm works by checking the value in the center of the array. If the target value is lower, the next value to check is in the center of the left half of the array. This way of searching means that the search area is always half of the previous search area, and this is why the Binary Search algorithm is so fast.  \n",
    "Each time Binary Search checks a new value to see if it is the target, the search area is halved. So, the time complexity of binary search is O($\\log_2n$)"
   ]
  },
  {
   "cell_type": "code",
   "execution_count": 26,
   "id": "cb1cb498",
   "metadata": {},
   "outputs": [
    {
     "name": "stdout",
     "output_type": "stream",
     "text": [
      "11 found at index 5 in the given list\n"
     ]
    }
   ],
   "source": [
    "def binarysearch(l,target):\n",
    "    left,right = 0,len(l)-1\n",
    "    while left<=right: \n",
    "        mid =  left + (right-left)//2\n",
    "        if target == l[mid]:\n",
    "            return mid\n",
    "        elif target < l[mid]:\n",
    "            right = mid - 1\n",
    "        else:\n",
    "            left = mid + 1\n",
    "    return -1\n",
    "\n",
    "\n",
    "mylist = [1, 3, 5, 7, 9, 11, 13, 15, 17, 19]\n",
    "x = 11\n",
    "\n",
    "result = binarysearch(mylist, x)\n",
    "\n",
    "if result == -1:\n",
    "    print(f\"{x} is not in given list\")\n",
    "else:\n",
    "    print(f\"{x} found at index {result} in the given list\")"
   ]
  },
  {
   "cell_type": "markdown",
   "id": "2377019b",
   "metadata": {},
   "source": [
    "# Sorting\n",
    "Sorting is the process of ordering the elements eitherin ascending order (generally) or in descending order."
   ]
  },
  {
   "cell_type": "markdown",
   "id": "85d422d6",
   "metadata": {},
   "source": [
    "# Bubble Sort\n",
    "Bubble Sort is a simple comparison-based sorting algorithm that repeatedly steps through a list, compares adjacent elements, and swaps them if they are in the wrong order. It is called bubble sort as the process “bubbles” the largest (or smallest) elements to the end of the list in each pass.\n",
    "Time complexity: O($n^2$)\n",
    "\n",
    "![Bubble Sort](https://miro.medium.com/0*3GYw87Ix_9BOQXn6.png)"
   ]
  },
  {
   "cell_type": "code",
   "execution_count": 28,
   "id": "db0bbd58",
   "metadata": {},
   "outputs": [
    {
     "name": "stdout",
     "output_type": "stream",
     "text": [
      "Original list: [3, 7, 2, 9, 5, 1, 8, 4, 6]\n",
      "Sorted List:  [1, 2, 3, 4, 5, 6, 7, 8, 9]\n"
     ]
    }
   ],
   "source": [
    "def bubblesort(l):\n",
    "    n = len(l)\n",
    "    for i in range(n):\n",
    "        for j in range(n-i-1):\n",
    "            if l[j]>l[j+1]:\n",
    "                l[j],l[j+1] = l[j+1],l[j]\n",
    "    return l\n",
    "\n",
    "mylist = mylist = [3, 7, 2, 9, 5, 1, 8, 4, 6]\n",
    "print(f\"Original list: {mylist}\")\n",
    "print(\"Sorted List: \",bubblesort(mylist))"
   ]
  },
  {
   "cell_type": "markdown",
   "id": "eac2e923",
   "metadata": {},
   "source": [
    "![Optimized Bubble Sort](images/bubblesortoptimized.png)\n"
   ]
  },
  {
   "cell_type": "code",
   "execution_count": 30,
   "id": "826b69e3",
   "metadata": {},
   "outputs": [
    {
     "name": "stdout",
     "output_type": "stream",
     "text": [
      "Original list: [3, 7, 2, 9, 5, 1, 8, 4, 6]\n",
      "Sorted List:  [1, 2, 3, 4, 5, 6, 7, 8, 9]\n"
     ]
    }
   ],
   "source": [
    "def optibubblesort(l):\n",
    "    n = len(l)\n",
    "    for i in range(n):\n",
    "        swapped = False\n",
    "        for j in range(n-i-1):\n",
    "            if l[j]>l[j+1]:\n",
    "                l[j],l[j+1] = l[j+1],l[j]\n",
    "                swapped = True\n",
    "        if not swapped:\n",
    "            break\n",
    "    return l\n",
    "\n",
    "mylist = mylist = [3, 7, 2, 9, 5, 1, 8, 4, 6]\n",
    "print(f\"Original list: {mylist}\")\n",
    "print(\"Sorted List: \",optibubblesort(mylist))"
   ]
  },
  {
   "cell_type": "markdown",
   "id": "295b749d",
   "metadata": {},
   "source": [
    "# Selection Sort\n",
    "In this sorting algorithm we find the lowest element in the array and then move the element to the front of the array. This process is repeated for (n-1) times, where n is the number of elements in the array and gives the sorted array.  \n",
    "Time Complexity: O($n^2$)"
   ]
  },
  {
   "cell_type": "code",
   "execution_count": 1,
   "id": "bb606a93",
   "metadata": {},
   "outputs": [
    {
     "name": "stdout",
     "output_type": "stream",
     "text": [
      "Original list: [3, 7, 2, 9, 5, 1, 8, 4, 6]\n",
      "Sorted List:  [1, 2, 3, 4, 5, 6, 7, 8, 9]\n"
     ]
    }
   ],
   "source": [
    "def selectionsort(l):\n",
    "    n = len(l)\n",
    "    for i in range(n):\n",
    "        min_index = i\n",
    "        for j in range(i+1,n):\n",
    "            if l[j]<l[min_index]:\n",
    "                min_index = j\n",
    "        min_val = l.pop(min_index)\n",
    "        l.insert(i,min_val)\n",
    "    return l\n",
    "\n",
    "\n",
    "mylist = mylist = [3, 7, 2, 9, 5, 1, 8, 4, 6]\n",
    "print(f\"Original list: {mylist}\")\n",
    "print(\"Sorted List: \",selectionsort(mylist))"
   ]
  },
  {
   "cell_type": "markdown",
   "id": "45269bf5",
   "metadata": {},
   "source": [
    "In the code above, the lowest value element is removed, and then inserted in front of the array.  \n",
    "Each time the next lowest value array element is removed, all following elements must be shifted one place down to make up for the removal. This is a time consuming process. So instead of removing the item and then inserting the item we just swap the min_val with the current position for minimum value.\n"
   ]
  },
  {
   "cell_type": "code",
   "execution_count": 2,
   "id": "3b25f7f8",
   "metadata": {},
   "outputs": [
    {
     "name": "stdout",
     "output_type": "stream",
     "text": [
      "Original list: [3, 7, 2, 9, 5, 1, 8, 4, 6]\n",
      "Sorted List:  [1, 2, 3, 4, 5, 6, 7, 8, 9]\n"
     ]
    }
   ],
   "source": [
    "def optiselsort(l):\n",
    "    n = len(l)\n",
    "    for i in range(n):\n",
    "        min_index = i\n",
    "        for j in range(i+1,n):\n",
    "            if l[j]<l[min_index]:\n",
    "                min_index = j\n",
    "        l[i],l[min_index] = l[min_index],l[i]\n",
    "    return l\n",
    "\n",
    "mylist = mylist = [3, 7, 2, 9, 5, 1, 8, 4, 6]\n",
    "print(f\"Original list: {mylist}\")\n",
    "print(\"Sorted List: \",optiselsort(mylist))"
   ]
  },
  {
   "cell_type": "markdown",
   "id": "c22683ec",
   "metadata": {},
   "source": [
    "# Insertion Sort\n",
    "In this sorting algorithm, we divide the array into two parts: sorted array and unsorted array. We start from the first element of the array and insert it in the apropriate index and remove from the unsorted array. We repeat this process until the unsorted array becomes empty.  \n",
    "Time Complexity: O($n^2$)"
   ]
  },
  {
   "cell_type": "code",
   "execution_count": 10,
   "id": "94eecef4",
   "metadata": {},
   "outputs": [
    {
     "name": "stdout",
     "output_type": "stream",
     "text": [
      "Original list: [3, 7, 2, 9, 5, 1, 8, 4, 6]\n",
      "Sorted List:  [1, 2, 3, 4, 5, 6, 7, 8, 9]\n"
     ]
    }
   ],
   "source": [
    "def inssort(l):\n",
    "    n = len(l)\n",
    "    for i in range(1,n):\n",
    "        ins_index = i\n",
    "        curr_val = l.pop(i)\n",
    "        for j in range(i-1,-1,-1):\n",
    "            if l[j]> curr_val:\n",
    "                ins_index = j\n",
    "            else:\n",
    "                break\n",
    "        l.insert(ins_index,curr_val)\n",
    "    return l\n",
    "\n",
    "\n",
    "mylist = mylist = [3, 7, 2, 9, 5, 1, 8, 4, 6]\n",
    "print(f\"Original list: {mylist}\")\n",
    "print(\"Sorted List: \",inssort(mylist))"
   ]
  },
  {
   "cell_type": "markdown",
   "id": "b6e42db4",
   "metadata": {},
   "source": [
    "In the above code, the element which is to be inserted in the osrted array part first get removed and then inserted in its appropriate position which requires the shifting of all the elements next to the inserting index which makes time consuming instead of it we shift only the elements in the sorted array part to make it optimized."
   ]
  },
  {
   "cell_type": "code",
   "execution_count": 11,
   "id": "3b85e523",
   "metadata": {},
   "outputs": [
    {
     "name": "stdout",
     "output_type": "stream",
     "text": [
      "Original list: [3, 7, 2, 9, 5, 1, 8, 4, 6]\n",
      "Sorted List:  [1, 2, 3, 4, 5, 6, 7, 8, 9]\n"
     ]
    }
   ],
   "source": [
    "def optiinssort(l):\n",
    "    n = len(l)\n",
    "    for i in range(1,n):\n",
    "        ins_index = i\n",
    "        curr_val = l[i]\n",
    "        for j in range(i-1,-1,-1):\n",
    "            if curr_val<l[j]:\n",
    "                l[j+1] = l[j]\n",
    "                ins_index = j\n",
    "            else:\n",
    "                break\n",
    "        l[ins_index] = curr_val\n",
    "    return l\n",
    "\n",
    "\n",
    "mylist = mylist = [3, 7, 2, 9, 5, 1, 8, 4, 6]\n",
    "print(f\"Original list: {mylist}\")\n",
    "print(\"Sorted List: \",optiinssort(mylist))"
   ]
  },
  {
   "cell_type": "markdown",
   "id": "a50450f3",
   "metadata": {},
   "source": [
    "# Quick Sort\n",
    "Quick Sort is a divide-and-conquer sorting algorithm. It works by selecting one element as a pivot and partitioning the array so that all elements smaller than the pivot are placed on the left side, while all elements greater than the pivot are placed on the right side. The process is then applied recursively to the left and right subarrays until each subarray has only one element, resulting in a fully sorted array.  \n",
    "Time Complexity: O($n\\log_2n$)"
   ]
  },
  {
   "cell_type": "code",
   "execution_count": 13,
   "id": "5b200174",
   "metadata": {},
   "outputs": [
    {
     "name": "stdout",
     "output_type": "stream",
     "text": [
      "Original list: [3, 7, 2, 9, 5, 1, 8, 4, 6]\n",
      "Sorted List:  [1, 2, 3, 4, 5, 6, 7, 8, 9]\n"
     ]
    }
   ],
   "source": [
    "def quicksort(l):\n",
    "    n = len(l)\n",
    "    if n <= 1:\n",
    "        return l\n",
    "    i = -1\n",
    "    j = 0\n",
    "    pivot = l[-1]\n",
    "    while j < n-1:\n",
    "        if l[j]<pivot:\n",
    "            i +=1\n",
    "            l[i], l[j] = l[j], l[i]\n",
    "        j+=1\n",
    "    i +=1\n",
    "    l[i], l[-1] = l[-1], l[i]\n",
    "    return quicksort(l[:i])+[l[i]]+quicksort(l[i+1:])\n",
    "\n",
    "mylist = mylist = [3, 7, 2, 9, 5, 1, 8, 4, 6]\n",
    "print(f\"Original list: {mylist}\")\n",
    "print(\"Sorted List: \",quicksort(mylist))\n",
    "\n"
   ]
  },
  {
   "cell_type": "markdown",
   "id": "ff64f684",
   "metadata": {},
   "source": [
    "# Counting Sort\n",
    "Counting Sort is a non-comparison-based sorting algorithm. Instead of comparing elements directly, it works by counting the frequency of each unique element in the input array. These counts are then used to place elements directly into their correct positions in the output array. It is particularly efficient when the range of input values (k) is not significantly larger than the number of elements (n).  \n",
    "Time Complexity: O(n+k)"
   ]
  },
  {
   "cell_type": "code",
   "execution_count": 16,
   "id": "beb7d75b",
   "metadata": {},
   "outputs": [
    {
     "name": "stdout",
     "output_type": "stream",
     "text": [
      "Original list: [3, 7, 2, 9, 5, 1, 8, 4, 6]\n",
      "Sorted List:  [1, 2, 3, 4, 5, 6, 7, 8, 9]\n"
     ]
    }
   ],
   "source": [
    "def countingsort(l):\n",
    "    count = [0] * (max(l)+1)\n",
    "    while l:\n",
    "        num = l.pop(0)\n",
    "        count[num]+=1 \n",
    "    arr = []\n",
    "    for i,f in enumerate(count):\n",
    "        for _ in range(f):\n",
    "            arr.append(i)\n",
    "    return arr\n",
    "\n",
    "mylist = mylist = [3, 7, 2, 9, 5, 1, 8, 4, 6]\n",
    "print(f\"Original list: {mylist}\")\n",
    "print(\"Sorted List: \",countingsort(mylist))"
   ]
  },
  {
   "cell_type": "markdown",
   "id": "a2a35961",
   "metadata": {},
   "source": [
    "# Radix Sort\n",
    "Radix Sort is a non-comparison-based, digit-wise sorting algorithm. Instead of comparing elements directly, it sorts numbers one digit at a time, starting from the least significant digit (LSD) or most significant digit (MSD). At each digit, a stable sort (like Counting Sort) is used to maintain the relative order of elements with the same digit. The process is repeated for all digit positions until the entire array is sorted.  \n",
    "Time Complexity: O(n.k),  \n",
    "where, n = no.of items, and k = no of digits in max value"
   ]
  },
  {
   "cell_type": "code",
   "execution_count": 24,
   "id": "8e856da8",
   "metadata": {},
   "outputs": [
    {
     "name": "stdout",
     "output_type": "stream",
     "text": [
      "Original list: [3, 7, 2, 9, 5, 1, 8, 4, 6]\n",
      "Sorted List:  [1, 2, 3, 4, 5, 6, 7, 8, 9]\n"
     ]
    }
   ],
   "source": [
    "def radixsort(l):\n",
    "    radarr = [[] for _ in range(10)]\n",
    "    place = 1\n",
    "    max_val = max(l)\n",
    "    while max_val // place > 0:\n",
    "        for num in l:\n",
    "            index = (num//place) % 10\n",
    "            radarr[index].append(num)\n",
    "\n",
    "        l.clear()\n",
    "\n",
    "        for bucket in radarr:\n",
    "            l.extend(bucket)\n",
    "            bucket.clear()\n",
    "        place = place*10\n",
    "    return l\n",
    "\n",
    "mylist = mylist = [3, 7, 2, 9, 5, 1, 8, 4, 6]\n",
    "print(f\"Original list: {mylist}\")\n",
    "print(\"Sorted List: \",radixsort(mylist))"
   ]
  },
  {
   "cell_type": "markdown",
   "id": "a959033c",
   "metadata": {},
   "source": [
    "# Merge Sort\n",
    "Merge Sort is a divide-and-conquer, comparison-based sorting algorithm. It works by recursively splitting the array into two halves until each subarray has only one element. Then, it merges the subarrays back together in sorted order. The merge process ensures that the final array is fully sorted.  \n",
    "Time Complexity: O($n\\log_2n$)"
   ]
  },
  {
   "cell_type": "code",
   "execution_count": 30,
   "id": "ff034c99",
   "metadata": {},
   "outputs": [
    {
     "name": "stdout",
     "output_type": "stream",
     "text": [
      "Original list: [3, 7, 2, 9, 5, 1, 8, 4, 6]\n",
      "Sorted List:  [1, 2, 3, 4, 5, 6, 7, 8, 9]\n"
     ]
    }
   ],
   "source": [
    "def mergesort(arr):\n",
    "    if len(arr)<=1:\n",
    "        return arr\n",
    "    mid = len(arr)//2\n",
    "    lf = arr[:mid]\n",
    "    rf = arr[mid:]\n",
    "    sortedleft = mergesort(lf)\n",
    "    sortedright = mergesort(rf)\n",
    "    return merge(sortedleft,sortedright)\n",
    "\n",
    "def merge(left,right):\n",
    "    merged = []\n",
    "    i = j = 0\n",
    "    l1 = len(left)\n",
    "    l2 = len(right)\n",
    "    while(i<l1 and j <l2):\n",
    "        if left[i]<right[j]:\n",
    "            merged.append(left[i])\n",
    "            i +=1\n",
    "        else:\n",
    "            merged.append(right[j])\n",
    "            j +=1\n",
    "    merged.extend(left[i:])\n",
    "    merged.extend(right[j:])\n",
    "    return merged\n",
    "\n",
    "mylist = mylist = [3, 7, 2, 9, 5, 1, 8, 4, 6]\n",
    "print(f\"Original list: {mylist}\")\n",
    "print(\"Sorted List: \",mergesort(mylist))"
   ]
  },
  {
   "cell_type": "code",
   "execution_count": 34,
   "id": "f11e9140",
   "metadata": {},
   "outputs": [
    {
     "name": "stdout",
     "output_type": "stream",
     "text": [
      "Original list: [3, 7, 2, 9, 5, 1, 8, 4, 6]\n",
      "Sorted List:  [1, 2, 3, 4, 5, 6, 7, 8, 9]\n"
     ]
    }
   ],
   "source": [
    "# Merge Sort without recursion\n",
    "\n",
    "def merge(left,right):\n",
    "    merged = []\n",
    "    i = j =0\n",
    "    l1 = len(left)\n",
    "    l2 = len(right)\n",
    "    while(i<l1 and j <l2):\n",
    "        if left[i]<right[j]:\n",
    "            merged.append(left[i])\n",
    "            i+=1\n",
    "        else:\n",
    "            merged.append(right[j])\n",
    "            j+=1\n",
    "    merged.extend(left[i:])\n",
    "    merged.extend(right[j:])\n",
    "    return merged\n",
    "\n",
    "\n",
    "def mergesort2(arr):\n",
    "    step = 1\n",
    "    n = len(arr)\n",
    "    while step<n:\n",
    "        for i in range(0,n,2*step):\n",
    "            left = arr[i:i+step]\n",
    "            right = arr[i+step:i+step*2]\n",
    "            merged = merge(left,right)\n",
    "\n",
    "            for j,val in enumerate(merged):\n",
    "                arr[i+j] = val\n",
    "        \n",
    "        step*=2\n",
    "    return arr\n",
    "\n",
    "\n",
    "mylist = mylist = [3, 7, 2, 9, 5, 1, 8, 4, 6]\n",
    "print(f\"Original list: {mylist}\")\n",
    "print(\"Sorted List: \",mergesort2(mylist))"
   ]
  }
 ],
 "metadata": {
  "kernelspec": {
   "display_name": "Python 3",
   "language": "python",
   "name": "python3"
  },
  "language_info": {
   "codemirror_mode": {
    "name": "ipython",
    "version": 3
   },
   "file_extension": ".py",
   "mimetype": "text/x-python",
   "name": "python",
   "nbconvert_exporter": "python",
   "pygments_lexer": "ipython3",
   "version": "3.13.3"
  }
 },
 "nbformat": 4,
 "nbformat_minor": 5
}
