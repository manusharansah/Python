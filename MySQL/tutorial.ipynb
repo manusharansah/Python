{
 "cells": [
  {
   "cell_type": "code",
   "execution_count": 1,
   "id": "9371e7fe",
   "metadata": {},
   "outputs": [],
   "source": [
    "import mysql.connector"
   ]
  },
  {
   "cell_type": "code",
   "execution_count": 3,
   "id": "29950f8b",
   "metadata": {},
   "outputs": [
    {
     "name": "stdout",
     "output_type": "stream",
     "text": [
      "Connection Successful\n"
     ]
    }
   ],
   "source": [
    "import mysql.connector\n",
    "\n",
    "mydb = mysql.connector.connect(\n",
    "  host=\"localhost\",\n",
    "  user=\"root\",\n",
    "  password=\"habibi$123\"\n",
    ")\n",
    "\n",
    "if mydb.is_connected():\n",
    "    print('Connection Successful')\n",
    "else:\n",
    "    print(\"Connection Failure\")"
   ]
  },
  {
   "cell_type": "code",
   "execution_count": null,
   "id": "aa9484e6",
   "metadata": {},
   "outputs": [],
   "source": [
    "# Creating a database \n",
    "import mysql.connector\n",
    "mydb = mysql.connector.connect(\n",
    "    host = 'localhost',\n",
    "    user = 'root',\n",
    "    password = 'habibi$123'\n",
    ")\n",
    "\n",
    "mycursor = mydb.cursor()\n",
    "mycursor.execute('CREATE DATABASE db1')\n"
   ]
  },
  {
   "cell_type": "code",
   "execution_count": 10,
   "id": "6fcbcdbc",
   "metadata": {},
   "outputs": [
    {
     "name": "stdout",
     "output_type": "stream",
     "text": [
      "('db1',)\n",
      "('information_schema',)\n",
      "('mysql',)\n",
      "('performance_schema',)\n",
      "('sys',)\n"
     ]
    }
   ],
   "source": [
    "# To show the created/ available databases\n",
    "mycursor.execute('SHOW DATABASES')\n",
    "for db in mycursor:\n",
    "    print(db)"
   ]
  },
  {
   "cell_type": "code",
   "execution_count": 11,
   "id": "51e509aa",
   "metadata": {},
   "outputs": [
    {
     "name": "stdout",
     "output_type": "stream",
     "text": [
      "Database db1 connection succesful.\n"
     ]
    }
   ],
   "source": [
    "# Connecting to the required dataase\n",
    "database = 'db1'\n",
    "mydb = mysql.connector.connect(\n",
    "    host = 'localhost',\n",
    "    user = 'root',\n",
    "    password = 'habibi$123',\n",
    "    database = database\n",
    ")\n",
    "if mydb.is_connected():\n",
    "    print(f\"Database {database} connection succesful.\")\n",
    "else:\n",
    "    print(f\"Database {database} couldn't be connected.\")"
   ]
  },
  {
   "cell_type": "code",
   "execution_count": 2,
   "id": "3613e75d",
   "metadata": {},
   "outputs": [],
   "source": [
    "# Creating table in the database\n",
    "import mysql.connector\n",
    "mydb = mysql.connector.connect(\n",
    "    host = 'localhost',\n",
    "    user = 'root',\n",
    "    password = 'habibi$123',\n",
    "    database = 'db1'\n",
    ")\n",
    "\n",
    "mycursor = mydb.cursor()\n",
    "\n",
    "mycursor.execute('CREATE TABLE customers (name VARCHAR(30), address VARCHAR(30))')\n",
    "\n",
    "mycursor.close()\n",
    "mydb.close()"
   ]
  },
  {
   "cell_type": "code",
   "execution_count": 6,
   "id": "52d8d899",
   "metadata": {},
   "outputs": [
    {
     "name": "stdout",
     "output_type": "stream",
     "text": [
      "('customers',)\n"
     ]
    }
   ],
   "source": [
    "# To list down all the tables in a database\n",
    "import mysql.connector\n",
    "\n",
    "mydb = mysql.connector.connect(\n",
    "    host = 'localhost',\n",
    "    user = 'root',\n",
    "    password = 'habibi$123',\n",
    "    database = 'db1'\n",
    ")\n",
    "\n",
    "mycursor = mydb.cursor()\n",
    "mycursor.execute('SHOW TABLES')\n",
    "for table in mycursor:\n",
    "    print(table)\n",
    "mycursor.close()\n",
    "mydb.close()"
   ]
  },
  {
   "cell_type": "markdown",
   "id": "784f835a",
   "metadata": {},
   "source": [
    "# Primary Key\n",
    "A primary key in a database is a unique identifier for each record (row) in a table.  \n",
    "It ensures that:  \n",
    "1. No two rows have the same key value (uniqueness).\n",
    "2. The key value is never NULL (not empty)."
   ]
  },
  {
   "cell_type": "code",
   "execution_count": null,
   "id": "c7659a5a",
   "metadata": {},
   "outputs": [
    {
     "name": "stdout",
     "output_type": "stream",
     "text": [
      "('name', 'varchar(30)', 'YES', '', None, '')\n",
      "('address', 'varchar(30)', 'YES', '', None, '')\n",
      "('id', 'int', 'NO', 'PRI', None, 'auto_increment')\n"
     ]
    }
   ],
   "source": [
    "# adding a primary key in the existing table \n",
    "#since we have already created table we use the alter command instead of create\n",
    "\n",
    "import mysql.connector\n",
    "\n",
    "mydb = mysql.connector.connect(\n",
    "    host = 'localhost',\n",
    "    user = 'root',\n",
    "    password = 'habibi$123',\n",
    "    database = 'db1'\n",
    ")\n",
    "\n",
    "mycursor = mydb.cursor()\n",
    "mycursor.execute('ALTER TABLE customers ADD COLUMN id INT AUTO_INCREMENT PRIMARY KEY')\n",
    "mycursor.execute('SHOW COLUMNS FROM customers')\n",
    "\n",
    "#mycursor.execute('DESCRIBE customers')\n",
    "\n",
    "for column in mycursor:\n",
    "    print(column)\n",
    "\n",
    "mycursor.close()\n",
    "mydb.close()\n"
   ]
  },
  {
   "cell_type": "code",
   "execution_count": null,
   "id": "1f7134dc",
   "metadata": {},
   "outputs": [
    {
     "name": "stdout",
     "output_type": "stream",
     "text": [
      "('name', 'varchar(30)', 'YES', '', None, '')\n",
      "('address', 'varchar(30)', 'YES', '', None, '')\n",
      "('id', 'int', 'NO', 'PRI', None, 'auto_increment')\n",
      "('demo_col', 'varchar(255)', 'YES', '', None, '')\n"
     ]
    }
   ],
   "source": [
    "#adding a column in table\n",
    "import mysql.connector\n",
    "mydb = mysql.connector.connect(\n",
    "    host = 'localhost',\n",
    "    user = 'root',\n",
    "    password = 'habibi$123',\n",
    "    database = 'db1'\n",
    ")\n",
    "\n",
    "mycursor = mydb.cursor()\n",
    "mycursor.execute('ALTER TABLE customers ADD COLUMN demo_col VARCHAR(255)')\n",
    "mycursor.execute('DESCRIBE customers')\n",
    "for column in mycursor:\n",
    "    print(column)"
   ]
  },
  {
   "cell_type": "code",
   "execution_count": 5,
   "id": "2542270d",
   "metadata": {},
   "outputs": [
    {
     "name": "stdout",
     "output_type": "stream",
     "text": [
      "('name', 'varchar(30)', 'YES', '', None, '')\n",
      "('address', 'varchar(30)', 'YES', '', None, '')\n",
      "('id', 'int', 'NO', 'PRI', None, 'auto_increment')\n"
     ]
    }
   ],
   "source": [
    "#deleting a column in a table\n",
    "mycursor.execute('ALTER TABLE customers DROP COLUMN demo_col')\n",
    "mycursor.execute('DESCRIBE customers')\n",
    "for column in mycursor:\n",
    "    print(column)"
   ]
  },
  {
   "cell_type": "code",
   "execution_count": 6,
   "id": "3cf15e83",
   "metadata": {},
   "outputs": [
    {
     "name": "stdout",
     "output_type": "stream",
     "text": [
      "('customer_name', 'varchar(30)', 'YES', '', None, '')\n",
      "('address', 'varchar(30)', 'YES', '', None, '')\n",
      "('id', 'int', 'NO', 'PRI', None, 'auto_increment')\n"
     ]
    }
   ],
   "source": [
    "#renaming a column\n",
    "mycursor.execute('ALTER TABLE customers RENAME COLUMN name TO customer_name')\n",
    "mycursor.execute('DESCRIBE customers')\n",
    "for column in mycursor:\n",
    "    print(column)"
   ]
  },
  {
   "cell_type": "code",
   "execution_count": null,
   "id": "e8f84647",
   "metadata": {},
   "outputs": [
    {
     "name": "stdout",
     "output_type": "stream",
     "text": [
      "('customer_name', 'varchar(255)', 'YES', '', None, '')\n",
      "('address', 'varchar(30)', 'YES', '', None, '')\n",
      "('id', 'int', 'NO', 'PRI', None, 'auto_increment')\n"
     ]
    }
   ],
   "source": [
    "# changing column datatype in a database\n",
    "mycursor.execute('ALTER TABLE customers MODIFY COLUMN customer_name VARCHAR(255)')\n",
    "mycursor.execute('DESCRIBE customers')\n",
    "for column in mycursor:\n",
    "    print(column)\n"
   ]
  },
  {
   "cell_type": "code",
   "execution_count": null,
   "id": "01ad8be6",
   "metadata": {},
   "outputs": [
    {
     "name": "stdout",
     "output_type": "stream",
     "text": [
      "('customer_name', 'varchar(255)', 'YES', '', None, '')\n",
      "('address', 'varchar(30)', 'YES', '', None, '')\n",
      "('id', 'int', 'NO', 'PRI', None, 'auto_increment')\n"
     ]
    }
   ],
   "source": [
    "# raenaming a table\n",
    "mycursor.execute('ALTER TABLE customers RENAME TO customers_info')\n",
    "mycursor.execute('DESCRIBE customers_info')\n",
    "for column in mycursor:\n",
    "    print(column)"
   ]
  },
  {
   "cell_type": "code",
   "execution_count": null,
   "id": "4c05d6b4",
   "metadata": {},
   "outputs": [
    {
     "name": "stdout",
     "output_type": "stream",
     "text": [
      "('customer_name', 'varchar(255)', 'NO', '', None, '')\n",
      "('address', 'varchar(30)', 'YES', '', None, '')\n",
      "('id', 'int', 'NO', '', None, '')\n"
     ]
    }
   ],
   "source": [
    "#dropping a primary key\n",
    "mycursor.execute('ALTER TABLE customers_info MODIFY COLUMN id INT ') #REMOVING AUTO-INCREMENT\n",
    "mycursor.execute('ALTER TABLE customers_info DROP PRIMARY KEY')\n",
    "mycursor.execute('DESCRIBE customers_info')\n",
    "for column in mycursor:\n",
    "    print(column)"
   ]
  },
  {
   "cell_type": "code",
   "execution_count": 22,
   "id": "c1252044",
   "metadata": {},
   "outputs": [
    {
     "name": "stdout",
     "output_type": "stream",
     "text": [
      "('customer_name', 'varchar(255)', 'NO', '', None, '')\n",
      "('address', 'varchar(30)', 'YES', '', None, '')\n",
      "('id', 'int', 'NO', 'PRI', None, '')\n"
     ]
    }
   ],
   "source": [
    "# adding a primary key \n",
    "\n",
    "mycursor.execute('ALTER TABLE customers_info ADD PRIMARY KEY (id)')\n",
    "mycursor.execute('DESCRIBE customers_info')\n",
    "for column in mycursor:\n",
    "    print(column)"
   ]
  },
  {
   "cell_type": "code",
   "execution_count": 23,
   "id": "0c73b849",
   "metadata": {},
   "outputs": [],
   "source": [
    "#adding constraints not-null\n",
    "mycursor.execute('ALTER TABLE customers_info MODIFY customer_name VARCHAR(255) NOT NULL')"
   ]
  },
  {
   "cell_type": "code",
   "execution_count": 24,
   "id": "6ba66f23",
   "metadata": {},
   "outputs": [],
   "source": [
    "mycursor.close()\n",
    "mydb.close()"
   ]
  }
 ],
 "metadata": {
  "kernelspec": {
   "display_name": "Python 3",
   "language": "python",
   "name": "python3"
  },
  "language_info": {
   "codemirror_mode": {
    "name": "ipython",
    "version": 3
   },
   "file_extension": ".py",
   "mimetype": "text/x-python",
   "name": "python",
   "nbconvert_exporter": "python",
   "pygments_lexer": "ipython3",
   "version": "3.13.3"
  }
 },
 "nbformat": 4,
 "nbformat_minor": 5
}
