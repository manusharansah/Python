{
 "cells": [
  {
   "cell_type": "code",
   "execution_count": 1,
   "id": "9371e7fe",
   "metadata": {},
   "outputs": [],
   "source": [
    "import mysql.connector"
   ]
  },
  {
   "cell_type": "code",
   "execution_count": 3,
   "id": "29950f8b",
   "metadata": {},
   "outputs": [
    {
     "name": "stdout",
     "output_type": "stream",
     "text": [
      "Connection Successful\n"
     ]
    }
   ],
   "source": [
    "import mysql.connector\n",
    "\n",
    "mydb = mysql.connector.connect(\n",
    "  host=\"localhost\",\n",
    "  user=\"root\",\n",
    "  password=\"habibi$123\"\n",
    ")\n",
    "\n",
    "if mydb.is_connected():\n",
    "    print('Connection Successful')\n",
    "else:\n",
    "    print(\"Connection Failure\")"
   ]
  },
  {
   "cell_type": "code",
   "execution_count": null,
   "id": "aa9484e6",
   "metadata": {},
   "outputs": [],
   "source": [
    "# Creating a database \n",
    "import mysql.connector\n",
    "mydb = mysql.connector.connect(\n",
    "    host = 'localhost',\n",
    "    user = 'root',\n",
    "    password = 'habibi$123'\n",
    ")\n",
    "\n",
    "mycursor = mydb.cursor()\n",
    "mycursor.execute('CREATE DATABASE db1')\n"
   ]
  },
  {
   "cell_type": "code",
   "execution_count": 10,
   "id": "6fcbcdbc",
   "metadata": {},
   "outputs": [
    {
     "name": "stdout",
     "output_type": "stream",
     "text": [
      "('db1',)\n",
      "('information_schema',)\n",
      "('mysql',)\n",
      "('performance_schema',)\n",
      "('sys',)\n"
     ]
    }
   ],
   "source": [
    "# To show the created/ available databases\n",
    "mycursor.execute('SHOW DATABASES')\n",
    "for db in mycursor:\n",
    "    print(db)"
   ]
  },
  {
   "cell_type": "code",
   "execution_count": 11,
   "id": "51e509aa",
   "metadata": {},
   "outputs": [
    {
     "name": "stdout",
     "output_type": "stream",
     "text": [
      "Database db1 connection succesful.\n"
     ]
    }
   ],
   "source": [
    "# Connecting to the required dataase\n",
    "database = 'db1'\n",
    "mydb = mysql.connector.connect(\n",
    "    host = 'localhost',\n",
    "    user = 'root',\n",
    "    password = 'habibi$123',\n",
    "    database = database\n",
    ")\n",
    "if mydb.is_connected():\n",
    "    print(f\"Database {database} connection succesful.\")\n",
    "else:\n",
    "    print(f\"Database {database} couldn't be connected.\")"
   ]
  },
  {
   "cell_type": "code",
   "execution_count": 2,
   "id": "3613e75d",
   "metadata": {},
   "outputs": [],
   "source": [
    "# Creating table in the database\n",
    "import mysql.connector\n",
    "mydb = mysql.connector.connect(\n",
    "    host = 'localhost',\n",
    "    user = 'root',\n",
    "    password = 'habibi$123',\n",
    "    database = 'db1'\n",
    ")\n",
    "\n",
    "mycursor = mydb.cursor()\n",
    "\n",
    "mycursor.execute('CREATE TABLE customers (name VARCHAR(30), address VARCHAR(30))')\n",
    "\n",
    "mycursor.close()\n",
    "mydb.close()"
   ]
  },
  {
   "cell_type": "code",
   "execution_count": 6,
   "id": "52d8d899",
   "metadata": {},
   "outputs": [
    {
     "name": "stdout",
     "output_type": "stream",
     "text": [
      "('customers',)\n"
     ]
    }
   ],
   "source": [
    "# To list down all the tables in a database\n",
    "import mysql.connector\n",
    "\n",
    "mydb = mysql.connector.connect(\n",
    "    host = 'localhost',\n",
    "    user = 'root',\n",
    "    password = 'habibi$123',\n",
    "    database = 'db1'\n",
    ")\n",
    "\n",
    "mycursor = mydb.cursor()\n",
    "mycursor.execute('SHOW TABLES')\n",
    "for table in mycursor:\n",
    "    print(table)\n",
    "mycursor.close()\n",
    "mydb.close()"
   ]
  },
  {
   "cell_type": "markdown",
   "id": "784f835a",
   "metadata": {},
   "source": [
    "# Primary Key\n",
    "A primary key in a database is a unique identifier for each record (row) in a table.  \n",
    "It ensures that:  \n",
    "1. No two rows have the same key value (uniqueness).\n",
    "2. The key value is never NULL (not empty)."
   ]
  },
  {
   "cell_type": "code",
   "execution_count": null,
   "id": "c7659a5a",
   "metadata": {},
   "outputs": [
    {
     "name": "stdout",
     "output_type": "stream",
     "text": [
      "('name', 'varchar(30)', 'YES', '', None, '')\n",
      "('address', 'varchar(30)', 'YES', '', None, '')\n",
      "('id', 'int', 'NO', 'PRI', None, 'auto_increment')\n"
     ]
    }
   ],
   "source": [
    "# adding a primary key in the existing table \n",
    "#since we have already created table we use the alter command instead of create\n",
    "\n",
    "import mysql.connector\n",
    "\n",
    "mydb = mysql.connector.connect(\n",
    "    host = 'localhost',\n",
    "    user = 'root',\n",
    "    password = 'habibi$123',\n",
    "    database = 'db1'\n",
    ")\n",
    "\n",
    "mycursor = mydb.cursor()\n",
    "mycursor.execute('ALTER TABLE customers ADD COLUMN id INT AUTO_INCREMENT PRIMARY KEY')\n",
    "mycursor.execute('SHOW COLUMNS FROM customers')\n",
    "\n",
    "#mycursor.execute('DESCRIBE customers')\n",
    "\n",
    "for column in mycursor:\n",
    "    print(column)\n",
    "\n",
    "mycursor.close()\n",
    "mydb.close()\n"
   ]
  },
  {
   "cell_type": "code",
   "execution_count": null,
   "id": "1f7134dc",
   "metadata": {},
   "outputs": [
    {
     "name": "stdout",
     "output_type": "stream",
     "text": [
      "('name', 'varchar(30)', 'YES', '', None, '')\n",
      "('address', 'varchar(30)', 'YES', '', None, '')\n",
      "('id', 'int', 'NO', 'PRI', None, 'auto_increment')\n",
      "('demo_col', 'varchar(255)', 'YES', '', None, '')\n"
     ]
    }
   ],
   "source": [
    "#adding a column in table\n",
    "import mysql.connector\n",
    "mydb = mysql.connector.connect(\n",
    "    host = 'localhost',\n",
    "    user = 'root',\n",
    "    password = 'habibi$123',\n",
    "    database = 'db1'\n",
    ")\n",
    "\n",
    "mycursor = mydb.cursor()\n",
    "mycursor.execute('ALTER TABLE customers ADD COLUMN demo_col VARCHAR(255)')\n",
    "mycursor.execute('DESCRIBE customers')\n",
    "for column in mycursor:\n",
    "    print(column)"
   ]
  },
  {
   "cell_type": "code",
   "execution_count": 5,
   "id": "2542270d",
   "metadata": {},
   "outputs": [
    {
     "name": "stdout",
     "output_type": "stream",
     "text": [
      "('name', 'varchar(30)', 'YES', '', None, '')\n",
      "('address', 'varchar(30)', 'YES', '', None, '')\n",
      "('id', 'int', 'NO', 'PRI', None, 'auto_increment')\n"
     ]
    }
   ],
   "source": [
    "#deleting a column in a table\n",
    "mycursor.execute('ALTER TABLE customers DROP COLUMN demo_col')\n",
    "mycursor.execute('DESCRIBE customers')\n",
    "for column in mycursor:\n",
    "    print(column)"
   ]
  },
  {
   "cell_type": "code",
   "execution_count": 6,
   "id": "3cf15e83",
   "metadata": {},
   "outputs": [
    {
     "name": "stdout",
     "output_type": "stream",
     "text": [
      "('customer_name', 'varchar(30)', 'YES', '', None, '')\n",
      "('address', 'varchar(30)', 'YES', '', None, '')\n",
      "('id', 'int', 'NO', 'PRI', None, 'auto_increment')\n"
     ]
    }
   ],
   "source": [
    "#renaming a column\n",
    "mycursor.execute('ALTER TABLE customers RENAME COLUMN name TO customer_name')\n",
    "mycursor.execute('DESCRIBE customers')\n",
    "for column in mycursor:\n",
    "    print(column)"
   ]
  },
  {
   "cell_type": "code",
   "execution_count": null,
   "id": "e8f84647",
   "metadata": {},
   "outputs": [
    {
     "name": "stdout",
     "output_type": "stream",
     "text": [
      "('customer_name', 'varchar(255)', 'YES', '', None, '')\n",
      "('address', 'varchar(30)', 'YES', '', None, '')\n",
      "('id', 'int', 'NO', 'PRI', None, 'auto_increment')\n"
     ]
    }
   ],
   "source": [
    "# changing column datatype in a database\n",
    "mycursor.execute('ALTER TABLE customers MODIFY COLUMN customer_name VARCHAR(255)')\n",
    "mycursor.execute('DESCRIBE customers')\n",
    "for column in mycursor:\n",
    "    print(column)\n"
   ]
  },
  {
   "cell_type": "code",
   "execution_count": null,
   "id": "01ad8be6",
   "metadata": {},
   "outputs": [
    {
     "name": "stdout",
     "output_type": "stream",
     "text": [
      "('customer_name', 'varchar(255)', 'YES', '', None, '')\n",
      "('address', 'varchar(30)', 'YES', '', None, '')\n",
      "('id', 'int', 'NO', 'PRI', None, 'auto_increment')\n"
     ]
    }
   ],
   "source": [
    "# raenaming a table\n",
    "mycursor.execute('ALTER TABLE customers RENAME TO customers_info')\n",
    "mycursor.execute('DESCRIBE customers_info')\n",
    "for column in mycursor:\n",
    "    print(column)"
   ]
  },
  {
   "cell_type": "code",
   "execution_count": null,
   "id": "4c05d6b4",
   "metadata": {},
   "outputs": [
    {
     "name": "stdout",
     "output_type": "stream",
     "text": [
      "('customer_name', 'varchar(255)', 'NO', '', None, '')\n",
      "('address', 'varchar(30)', 'YES', '', None, '')\n",
      "('id', 'int', 'NO', '', None, '')\n"
     ]
    }
   ],
   "source": [
    "#dropping a primary key\n",
    "mycursor.execute('ALTER TABLE customers_info MODIFY COLUMN id INT ') #REMOVING AUTO-INCREMENT\n",
    "mycursor.execute('ALTER TABLE customers_info DROP PRIMARY KEY')\n",
    "mycursor.execute('DESCRIBE customers_info')\n",
    "for column in mycursor:\n",
    "    print(column)"
   ]
  },
  {
   "cell_type": "code",
   "execution_count": 22,
   "id": "c1252044",
   "metadata": {},
   "outputs": [
    {
     "name": "stdout",
     "output_type": "stream",
     "text": [
      "('customer_name', 'varchar(255)', 'NO', '', None, '')\n",
      "('address', 'varchar(30)', 'YES', '', None, '')\n",
      "('id', 'int', 'NO', 'PRI', None, '')\n"
     ]
    }
   ],
   "source": [
    "# adding a primary key \n",
    "\n",
    "mycursor.execute('ALTER TABLE customers_info ADD PRIMARY KEY (id)')\n",
    "mycursor.execute('DESCRIBE customers_info')\n",
    "for column in mycursor:\n",
    "    print(column)"
   ]
  },
  {
   "cell_type": "code",
   "execution_count": 23,
   "id": "0c73b849",
   "metadata": {},
   "outputs": [],
   "source": [
    "#adding constraints not-null\n",
    "mycursor.execute('ALTER TABLE customers_info MODIFY customer_name VARCHAR(255) NOT NULL')"
   ]
  },
  {
   "cell_type": "code",
   "execution_count": 24,
   "id": "6ba66f23",
   "metadata": {},
   "outputs": [],
   "source": [
    "mycursor.close()\n",
    "mydb.close()"
   ]
  },
  {
   "cell_type": "code",
   "execution_count": 1,
   "id": "8f81af23",
   "metadata": {},
   "outputs": [
    {
     "name": "stdout",
     "output_type": "stream",
     "text": [
      "('customers_info',)\n"
     ]
    }
   ],
   "source": [
    "#inserting values in databse\n",
    "import mysql.connector\n",
    "mydb = mysql.connector.connect(\n",
    "    host = 'localhost',\n",
    "    user = 'root',\n",
    "    password = 'habibi$123',\n",
    "    database = 'db1'\n",
    ")\n",
    "\n",
    "mycursor = mydb.cursor()\n",
    "mycursor.execute('SHOW TABLES')\n",
    "for table in mycursor:\n",
    "    print(table)"
   ]
  },
  {
   "cell_type": "code",
   "execution_count": 2,
   "id": "0679de7c",
   "metadata": {},
   "outputs": [
    {
     "name": "stdout",
     "output_type": "stream",
     "text": [
      "('customer_name', 'varchar(255)', 'NO', '', None, '')\n",
      "('address', 'varchar(30)', 'YES', '', None, '')\n",
      "('id', 'int', 'NO', 'PRI', None, '')\n"
     ]
    }
   ],
   "source": [
    "mycursor.execute('DESCRIBE customers_info')\n",
    "for column in mycursor:\n",
    "    print(column)"
   ]
  },
  {
   "cell_type": "code",
   "execution_count": 5,
   "id": "5b8ac5c3",
   "metadata": {},
   "outputs": [],
   "source": [
    "mycursor.execute('ALTER TABLE customers_info MODIFY COLUMN id INT AUTO_INCREMENT')"
   ]
  },
  {
   "cell_type": "code",
   "execution_count": 6,
   "id": "92fb2fed",
   "metadata": {},
   "outputs": [],
   "source": [
    "sql = 'INSERT INTO customers_info (customer_name,address) VALUES (%s,%s)'\n",
    "val = ('John','Highway 21')\n",
    "mycursor.execute(sql,val)\n",
    "mydb.commit() #this statement is required to make changes to the table"
   ]
  },
  {
   "cell_type": "code",
   "execution_count": null,
   "id": "178e6a2b",
   "metadata": {},
   "outputs": [
    {
     "name": "stdout",
     "output_type": "stream",
     "text": [
      "1 record inserted\n"
     ]
    }
   ],
   "source": [
    "print(mycursor.rowcount,'record inserted') #this statement is used to get no of rows inserted recently"
   ]
  },
  {
   "cell_type": "code",
   "execution_count": null,
   "id": "2f492232",
   "metadata": {},
   "outputs": [
    {
     "name": "stdout",
     "output_type": "stream",
     "text": [
      "13 record inserted\n"
     ]
    }
   ],
   "source": [
    "#inserting multiple records in a table\n",
    "sql = 'INSERT INTO customers_info (customer_name,address) VALUES (%s,%s)'\n",
    "val = [('Peter', 'Lowstreet 4'),\n",
    "  ('Amy', 'Apple st 652'),\n",
    "  ('Hannah', 'Mountain 21'),\n",
    "  ('Michael', 'Valley 345'),\n",
    "  ('Sandy', 'Ocean blvd 2'),\n",
    "  ('Betty', 'Green Grass 1'),\n",
    "  ('Richard', 'Sky st 331'),\n",
    "  ('Susan', 'One way 98'),\n",
    "  ('Vicky', 'Yellow Garden 2'),\n",
    "  ('Ben', 'Park Lane 38'),\n",
    "  ('William', 'Central st 954'),\n",
    "  ('Chuck', 'Main Road 989'),\n",
    "  ('Viola', 'Sideway 1633')]\n",
    "mycursor.executemany(sql,val)   # to insert multiple record we use mycursor.executemany()\n",
    "mydb.commit()\n",
    "print(mycursor.rowcount,'record inserted')"
   ]
  },
  {
   "cell_type": "code",
   "execution_count": null,
   "id": "6468f00b",
   "metadata": {},
   "outputs": [
    {
     "name": "stdout",
     "output_type": "stream",
     "text": [
      "ID of the last row inserted 2\n"
     ]
    }
   ],
   "source": [
    "print('ID of the last row inserted', mycursor.lastrowid)  #it gives auto-incremented id of last row inserted"
   ]
  },
  {
   "cell_type": "code",
   "execution_count": 13,
   "id": "39504164",
   "metadata": {},
   "outputs": [
    {
     "name": "stdout",
     "output_type": "stream",
     "text": [
      "ID of last row inserted:  15\n"
     ]
    }
   ],
   "source": [
    "sql = 'INSERT INTO customers_info (customer_name,address) VALUES (%s,%s)'\n",
    "val = ('Manu',' ***** ')\n",
    "mycursor.execute(sql,val)\n",
    "mydb.commit()\n",
    "\n",
    "print('ID of last row inserted: ',mycursor.lastrowid)"
   ]
  },
  {
   "cell_type": "code",
   "execution_count": null,
   "id": "18036dc5",
   "metadata": {},
   "outputs": [
    {
     "name": "stdout",
     "output_type": "stream",
     "text": [
      "('John', 'Highway 21', 1)\n",
      "('Peter', 'Lowstreet 4', 2)\n",
      "('Amy', 'Apple st 652', 3)\n",
      "('Hannah', 'Mountain 21', 4)\n",
      "('Michael', 'Valley 345', 5)\n",
      "('Sandy', 'Ocean blvd 2', 6)\n",
      "('Betty', 'Green Grass 1', 7)\n",
      "('Richard', 'Sky st 331', 8)\n",
      "('Susan', 'One way 98', 9)\n",
      "('Vicky', 'Yellow Garden 2', 10)\n",
      "('Ben', 'Park Lane 38', 11)\n",
      "('William', 'Central st 954', 12)\n",
      "('Chuck', 'Main Road 989', 13)\n",
      "('Viola', 'Sideway 1633', 14)\n",
      "('Manu', ' ***** ', 15)\n"
     ]
    }
   ],
   "source": [
    "#selecting records from table\n",
    "mycursor.execute('SELECT * FROM customers_info')   #selecting all data from table\n",
    "records = mycursor.fetchall()\n",
    "for record in records:\n",
    "    print(record)"
   ]
  },
  {
   "cell_type": "code",
   "execution_count": null,
   "id": "48a9445c",
   "metadata": {},
   "outputs": [
    {
     "name": "stdout",
     "output_type": "stream",
     "text": [
      "('John', 'Highway 21')\n",
      "('Peter', 'Lowstreet 4')\n",
      "('Amy', 'Apple st 652')\n",
      "('Hannah', 'Mountain 21')\n",
      "('Michael', 'Valley 345')\n",
      "('Sandy', 'Ocean blvd 2')\n",
      "('Betty', 'Green Grass 1')\n",
      "('Richard', 'Sky st 331')\n",
      "('Susan', 'One way 98')\n",
      "('Vicky', 'Yellow Garden 2')\n",
      "('Ben', 'Park Lane 38')\n",
      "('William', 'Central st 954')\n",
      "('Chuck', 'Main Road 989')\n",
      "('Viola', 'Sideway 1633')\n",
      "('Manu', ' ***** ')\n"
     ]
    }
   ],
   "source": [
    "mycursor.execute('SELECT customer_name,address FROM customers_info')  #selecting specific column for all record in table\n",
    "records = mycursor.fetchall()\n",
    "for record in records:\n",
    "    print(record)"
   ]
  },
  {
   "cell_type": "code",
   "execution_count": 20,
   "id": "f4efef58",
   "metadata": {},
   "outputs": [
    {
     "name": "stdout",
     "output_type": "stream",
     "text": [
      "('John', 'Highway 21', 1)\n"
     ]
    }
   ],
   "source": [
    "#selecting the first record of the table using fetchone() method\n",
    "mycursor.execute('SELECT * FROM customers_info')\n",
    "record = mycursor.fetchone()\n",
    "print(record)"
   ]
  },
  {
   "cell_type": "code",
   "execution_count": 5,
   "id": "15d5fb52",
   "metadata": {},
   "outputs": [
    {
     "name": "stdout",
     "output_type": "stream",
     "text": [
      "('Ben', 'Park Lane 38', 11)\n"
     ]
    }
   ],
   "source": [
    "# selecting with filter \n",
    "import mysql.connector\n",
    "mydb = mysql.connector.connect(\n",
    "    host = 'localhost',\n",
    "    user = 'root',\n",
    "    password = 'habibi$123',\n",
    "    database = 'db1'\n",
    ")\n",
    "mycursor = mydb.cursor()\n",
    "sql = 'SELECT * FROM customers_info WHERE address = \"Park Lane 38\"'\n",
    "mycursor.execute(sql)\n",
    "\n",
    "records = mycursor.fetchall()\n",
    "for record in records:\n",
    "    print(record)"
   ]
  },
  {
   "cell_type": "markdown",
   "id": "ca2e39c3",
   "metadata": {},
   "source": [
    "# Wildcard Characters\n",
    "In SQL, wildcard characters are mainly used with the LIKE operator to perform pattern matching in queries — that is, to search for data that matches a specific format rather than an exact value.  \n",
    "\n",
    "![SQL Wildcards](images/Screenshot%202025-10-08%20at%2008.52.15.png)"
   ]
  },
  {
   "cell_type": "code",
   "execution_count": 6,
   "id": "69144a86",
   "metadata": {},
   "outputs": [
    {
     "name": "stdout",
     "output_type": "stream",
     "text": [
      "('Sandy', 'Ocean blvd 2', 6)\n",
      "('Susan', 'One way 98', 9)\n"
     ]
    }
   ],
   "source": [
    "# 1. Names starting with “S”\n",
    "sql = 'SELECT * FROM customers_info WHERE customer_name LIKE \"S%\"'\n",
    "mycursor.execute(sql)\n",
    "records = mycursor.fetchall()\n",
    "for record in records:\n",
    "    print(record)"
   ]
  },
  {
   "cell_type": "code",
   "execution_count": 7,
   "id": "fa6d8901",
   "metadata": {},
   "outputs": [
    {
     "name": "stdout",
     "output_type": "stream",
     "text": [
      "('John', 'Highway 21', 1)\n",
      "('Susan', 'One way 98', 9)\n",
      "('Ben', 'Park Lane 38', 11)\n"
     ]
    }
   ],
   "source": [
    "# 2. Names ending with “n”\n",
    "sql = 'SELECT * FROM customers_info WHERE customer_name LIKE \"%n\"'\n",
    "mycursor.execute(sql)\n",
    "records = mycursor.fetchall()\n",
    "for record in records:\n",
    "    print(record)"
   ]
  },
  {
   "cell_type": "code",
   "execution_count": 8,
   "id": "e1d58ea0",
   "metadata": {},
   "outputs": [
    {
     "name": "stdout",
     "output_type": "stream",
     "text": [
      "('Hannah', 'Mountain 21', 4)\n",
      "('Sandy', 'Ocean blvd 2', 6)\n",
      "('Susan', 'One way 98', 9)\n",
      "('Manu', ' ***** ', 15)\n"
     ]
    }
   ],
   "source": [
    "# 3. Names having “an” anywhere\n",
    "sql = 'SELECT * FROM customers_info WHERE customer_name LIKE \"%an%\"'\n",
    "mycursor.execute(sql)\n",
    "records = mycursor.fetchall()\n",
    "for record in records:\n",
    "    print(record)"
   ]
  },
  {
   "cell_type": "code",
   "execution_count": 9,
   "id": "ce982a58",
   "metadata": {},
   "outputs": [
    {
     "name": "stdout",
     "output_type": "stream",
     "text": [
      "('John', 'Highway 21', 1)\n",
      "('Manu', ' ***** ', 15)\n"
     ]
    }
   ],
   "source": [
    "# 4. Names with exactly 4 letters\n",
    "sql = 'SELECT * FROM customers_info WHERE customer_name LIKE \"____\"'\n",
    "mycursor.execute(sql)\n",
    "records = mycursor.fetchall()\n",
    "for record in records:\n",
    "    print(record)"
   ]
  },
  {
   "cell_type": "code",
   "execution_count": 12,
   "id": "1ac1e4d7",
   "metadata": {},
   "outputs": [
    {
     "name": "stdout",
     "output_type": "stream",
     "text": [
      "('John', 'Highway 21', 1)\n",
      "('Peter', 'Lowstreet 4', 2)\n",
      "('Amy', 'Apple st 652', 3)\n",
      "('Hannah', 'Mountain 21', 4)\n",
      "('Michael', 'Valley 345', 5)\n",
      "('Sandy', 'Ocean blvd 2', 6)\n",
      "('Betty', 'Green Grass 1', 7)\n",
      "('Richard', 'Sky st 331', 8)\n",
      "('Susan', 'One way 98', 9)\n",
      "('Vicky', 'Yellow Garden 2', 10)\n",
      "('Ben', 'Park Lane 38', 11)\n",
      "('William', 'Central st 954', 12)\n",
      "('Chuck', 'Main Road 989', 13)\n",
      "('Viola', 'Sideway 1633', 14)\n",
      "('Manu', ' ***** ', 15)\n"
     ]
    }
   ],
   "source": [
    "sql = 'SELECT * FROM customers_info'\n",
    "mycursor.execute(sql)\n",
    "records = mycursor.fetchall()\n",
    "for record in records:\n",
    "    print(record)"
   ]
  },
  {
   "cell_type": "code",
   "execution_count": 13,
   "id": "e21d136b",
   "metadata": {},
   "outputs": [
    {
     "name": "stdout",
     "output_type": "stream",
     "text": [
      "('Amy', 'Apple st 652', 3)\n",
      "('Betty', 'Green Grass 1', 7)\n",
      "('Ben', 'Park Lane 38', 11)\n"
     ]
    }
   ],
   "source": [
    "# 5. Names starting with A or B (SQL Server syntax)\n",
    "sql = 'SELECT * FROM customers_info WHERE customer_name REGEXP \"^[AB]\"'\n",
    "mycursor.execute(sql)\n",
    "records = mycursor.fetchall()\n",
    "for record in records:\n",
    "    print(record)"
   ]
  },
  {
   "cell_type": "markdown",
   "id": "472898be",
   "metadata": {},
   "source": [
    "# Preventing SQL Injection\n",
    "When query values are provided by the user, we should escape the values.  \n",
    "This is to prevent SQL injections, which is a common web hacking technique to destroy or misuse the database.  \n",
    "The mysql.connector module has methods to escape query values using wildcard characters."
   ]
  },
  {
   "cell_type": "code",
   "execution_count": 16,
   "id": "25fdcd65",
   "metadata": {},
   "outputs": [
    {
     "name": "stdout",
     "output_type": "stream",
     "text": [
      "('Betty', 'Green Grass 1', 7)\n"
     ]
    }
   ],
   "source": [
    "sql = 'SELECT * FROM customers_info WHERE address= %s'\n",
    "address = ('Green Grass 1',)\n",
    "mycursor.execute(sql,address)\n",
    "records = mycursor.fetchall()\n",
    "for record in records:\n",
    "    print(record)"
   ]
  },
  {
   "cell_type": "code",
   "execution_count": null,
   "id": "134b4b5e",
   "metadata": {},
   "outputs": [
    {
     "name": "stdout",
     "output_type": "stream",
     "text": [
      "('Amy', 'Apple st 652', 3)\n",
      "('Ben', 'Park Lane 38', 11)\n",
      "('Betty', 'Green Grass 1', 7)\n",
      "('Chuck', 'Main Road 989', 13)\n",
      "('Hannah', 'Mountain 21', 4)\n",
      "('John', 'Highway 21', 1)\n",
      "('Manu', ' ***** ', 15)\n",
      "('Michael', 'Valley 345', 5)\n",
      "('Peter', 'Lowstreet 4', 2)\n",
      "('Richard', 'Sky st 331', 8)\n",
      "('Sandy', 'Ocean blvd 2', 6)\n",
      "('Susan', 'One way 98', 9)\n",
      "('Vicky', 'Yellow Garden 2', 10)\n",
      "('Viola', 'Sideway 1633', 14)\n",
      "('William', 'Central st 954', 12)\n"
     ]
    }
   ],
   "source": [
    "# selecting records in order (ascending)\n",
    "sql = 'SELECT * FROM customers_info ORDER BY customer_name'\n",
    "mycursor.execute(sql)\n",
    "records = mycursor.fetchall()\n",
    "for record in records:\n",
    "    print(record)"
   ]
  },
  {
   "cell_type": "code",
   "execution_count": 18,
   "id": "153772d5",
   "metadata": {},
   "outputs": [
    {
     "name": "stdout",
     "output_type": "stream",
     "text": [
      "('William', 'Central st 954', 12)\n",
      "('Viola', 'Sideway 1633', 14)\n",
      "('Vicky', 'Yellow Garden 2', 10)\n",
      "('Susan', 'One way 98', 9)\n",
      "('Sandy', 'Ocean blvd 2', 6)\n",
      "('Richard', 'Sky st 331', 8)\n",
      "('Peter', 'Lowstreet 4', 2)\n",
      "('Michael', 'Valley 345', 5)\n",
      "('Manu', ' ***** ', 15)\n",
      "('John', 'Highway 21', 1)\n",
      "('Hannah', 'Mountain 21', 4)\n",
      "('Chuck', 'Main Road 989', 13)\n",
      "('Betty', 'Green Grass 1', 7)\n",
      "('Ben', 'Park Lane 38', 11)\n",
      "('Amy', 'Apple st 652', 3)\n"
     ]
    }
   ],
   "source": [
    "# selecting records in order (descending)\n",
    "sql = 'SELECT * FROM customers_info ORDER BY customer_name DESC'\n",
    "mycursor.execute(sql)\n",
    "records = mycursor.fetchall()\n",
    "for record in records:\n",
    "    print(record)"
   ]
  },
  {
   "cell_type": "code",
   "execution_count": null,
   "id": "8c5adf6d",
   "metadata": {},
   "outputs": [
    {
     "name": "stdout",
     "output_type": "stream",
     "text": [
      "Deleted Records:\n",
      "1 record(s) deleted\n"
     ]
    }
   ],
   "source": [
    "# deleting records from table\n",
    "sql = 'DELETE FROM customers_info WHERE customer_name LIKE \"%tt%\"'\n",
    "mycursor.execute(sql)\n",
    "mydb.commit()  #to make any change sto the table we use this statement\n",
    "print('Deleted Records:')\n",
    "print(mycursor.rowcount,'record(s) deleted')"
   ]
  },
  {
   "cell_type": "code",
   "execution_count": 24,
   "id": "3c558376",
   "metadata": {},
   "outputs": [
    {
     "name": "stdout",
     "output_type": "stream",
     "text": [
      "1 record(s) deleted\n"
     ]
    }
   ],
   "source": [
    "# preventing sql injection \n",
    "sql = 'DELETE FROM customers_info WHERE customer_name = %s'\n",
    "cus_name = ('John',)\n",
    "mycursor.execute(sql,cus_name)\n",
    "mydb.commit()  #to make any change sto the table we use this statement\n",
    "print(mycursor.rowcount,'record(s) deleted')"
   ]
  },
  {
   "cell_type": "code",
   "execution_count": 25,
   "id": "67bfa7fc",
   "metadata": {},
   "outputs": [
    {
     "name": "stdout",
     "output_type": "stream",
     "text": [
      "Table customers_info truncated successfully\n"
     ]
    }
   ],
   "source": [
    "# Truncating the entire table (deleting the data of the table but no deletion of table)\n",
    "\n",
    "sql = 'TRUNCATE TABLE customers_info'\n",
    "mycursor.execute(sql)\n",
    "print('Table customers_info truncated successfully')"
   ]
  },
  {
   "cell_type": "code",
   "execution_count": 26,
   "id": "934c2292",
   "metadata": {},
   "outputs": [],
   "source": [
    "sql = 'SELECT * FROM customers_info'\n",
    "mycursor.execute(sql)\n",
    "records = mycursor.fetchall()\n",
    "for record in records:\n",
    "    print(record)"
   ]
  },
  {
   "cell_type": "code",
   "execution_count": 27,
   "id": "0166ceec",
   "metadata": {},
   "outputs": [
    {
     "name": "stdout",
     "output_type": "stream",
     "text": [
      "('customers_info',)\n"
     ]
    }
   ],
   "source": [
    "sql = 'SHOW TABLES'\n",
    "mycursor.execute(sql)\n",
    "tables = mycursor.fetchall()\n",
    "for table in tables:\n",
    "    print(table)"
   ]
  },
  {
   "cell_type": "code",
   "execution_count": 28,
   "id": "2d4fe877",
   "metadata": {},
   "outputs": [
    {
     "name": "stdout",
     "output_type": "stream",
     "text": [
      "Table customers_info deleted successfully\n"
     ]
    }
   ],
   "source": [
    "# dropping a table\n",
    "sql = 'DROP TABLE customers_info'\n",
    "mycursor.execute(sql)\n",
    "print(\"Table customers_info deleted successfully\")"
   ]
  },
  {
   "cell_type": "code",
   "execution_count": 29,
   "id": "7de1833f",
   "metadata": {},
   "outputs": [],
   "source": [
    "sql = 'SHOW TABLES'\n",
    "mycursor.execute(sql)\n",
    "tables = mycursor.fetchall()\n",
    "for table in tables:\n",
    "    print(table)"
   ]
  },
  {
   "cell_type": "code",
   "execution_count": null,
   "id": "dd161817",
   "metadata": {},
   "outputs": [],
   "source": [
    "# dropping table if exists\n",
    "sql = 'DROP TABLE IF EXISTS students'\n",
    "mycursor.execute(sql)\n",
    "\n",
    "# IS EXISTS only work with DROP "
   ]
  }
 ],
 "metadata": {
  "kernelspec": {
   "display_name": "Python 3",
   "language": "python",
   "name": "python3"
  },
  "language_info": {
   "codemirror_mode": {
    "name": "ipython",
    "version": 3
   },
   "file_extension": ".py",
   "mimetype": "text/x-python",
   "name": "python",
   "nbconvert_exporter": "python",
   "pygments_lexer": "ipython3",
   "version": "3.13.3"
  }
 },
 "nbformat": 4,
 "nbformat_minor": 5
}
